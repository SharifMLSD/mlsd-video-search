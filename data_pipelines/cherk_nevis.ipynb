{
 "cells": [
  {
   "attachments": {},
   "cell_type": "markdown",
   "metadata": {},
   "source": [
    "# Download"
   ]
  },
  {
   "cell_type": "code",
   "execution_count": null,
   "metadata": {},
   "outputs": [],
   "source": []
  },
  {
   "attachments": {},
   "cell_type": "markdown",
   "metadata": {},
   "source": [
    "# Kafka"
   ]
  },
  {
   "cell_type": "code",
   "execution_count": null,
   "metadata": {},
   "outputs": [],
   "source": [
    "curl -o kafka_2.13-3.4.0.tgz https://www.apache.org/dyn/closer.cgi?path=/kafka/3.4.0/kafka_2.13-3.4.0.tgz\n",
    "tar -xzf kafka_2.13-3.4.0.tgz\n",
    "cd kafka_2.13-3.4.0\n",
    "\n",
    "bin/zookeeper-server-start.sh config/zookeeper.properties\n",
    "bin/kafka-server-start.sh config/server.properties"
   ]
  },
  {
   "cell_type": "code",
   "execution_count": null,
   "metadata": {},
   "outputs": [],
   "source": [
    "docker run -it --network host -e DYNAMIC_CONFIG_ENABLED=true docker.repos.balad.ir/provectuslabs/kafka-ui"
   ]
  },
  {
   "attachments": {},
   "cell_type": "markdown",
   "metadata": {},
   "source": [
    "# Airflow"
   ]
  },
  {
   "cell_type": "code",
   "execution_count": null,
   "metadata": {},
   "outputs": [],
   "source": [
    "export AIRFLOW_HOME=~/airflow\n",
    "\n",
    "AIRFLOW_VERSION=2.6.0\n",
    "PYTHON_VERSION=\"$(python --version | cut -d \" \" -f 2 | cut -d \".\" -f 1-2)\"\n",
    "CONSTRAINT_URL=\"https://raw.githubusercontent.com/apache/airflow/constraints-${AIRFLOW_VERSION}/constraints-${PYTHON_VERSION}.txt\"\n",
    "\n",
    "pip install \"apache-airflow==${AIRFLOW_VERSION}\" --constraint \"${CONSTRAINT_URL}\"\n"
   ]
  },
  {
   "cell_type": "code",
   "execution_count": null,
   "metadata": {},
   "outputs": [],
   "source": [
    "AIRFLOW__WEBSERVER__WEB_SERVER_PORT=8081 AIRFLOW__CORE__LOAD_EXAMPLES=False"
   ]
  },
  {
   "attachments": {},
   "cell_type": "markdown",
   "metadata": {},
   "source": [
    "# Test Kafka"
   ]
  },
  {
   "cell_type": "code",
   "execution_count": 14,
   "metadata": {},
   "outputs": [
    {
     "name": "stdout",
     "output_type": "stream",
     "text": [
      "huggingface/tokenizers: The current process just got forked, after parallelism has already been used. Disabling parallelism to avoid deadlocks...\n",
      "To disable this warning, you can either:\n",
      "\t- Avoid using `tokenizers` before the fork if possible\n",
      "\t- Explicitly set the environment variable TOKENIZERS_PARALLELISM=(true | false)\n",
      "Requirement already satisfied: confluent-kafka in /home/divar/.local/lib/python3.9/site-packages (1.8.2)\n",
      "\n",
      "\u001b[1m[\u001b[0m\u001b[34;49mnotice\u001b[0m\u001b[1;39;49m]\u001b[0m\u001b[39;49m A new release of pip is available: \u001b[0m\u001b[31;49m23.0.1\u001b[0m\u001b[39;49m -> \u001b[0m\u001b[32;49m23.1.2\u001b[0m\n",
      "\u001b[1m[\u001b[0m\u001b[34;49mnotice\u001b[0m\u001b[1;39;49m]\u001b[0m\u001b[39;49m To update, run: \u001b[0m\u001b[32;49mpip install --upgrade pip\u001b[0m\n"
     ]
    }
   ],
   "source": [
    "!pip install confluent-kafka"
   ]
  },
  {
   "cell_type": "code",
   "execution_count": 16,
   "metadata": {},
   "outputs": [],
   "source": [
    "from confluent_kafka import Producer\n",
    "import socket\n",
    "\n",
    "conf = {'bootstrap.servers': \"localhost:9092\",\n",
    "        'client.id': socket.gethostname()}\n",
    "\n",
    "producer = Producer(conf)"
   ]
  },
  {
   "cell_type": "code",
   "execution_count": 18,
   "metadata": {},
   "outputs": [
    {
     "data": {
      "text/plain": [
       "0"
      ]
     },
     "execution_count": 18,
     "metadata": {},
     "output_type": "execute_result"
    }
   ],
   "source": [
    "producer.produce(topic=\"testi\", value=\"salam2\")\n",
    "producer.flush()"
   ]
  },
  {
   "cell_type": "code",
   "execution_count": 20,
   "metadata": {},
   "outputs": [],
   "source": [
    "from confluent_kafka import Consumer\n",
    "\n",
    "conf = {'bootstrap.servers': 'localhost:9092',\n",
    "        'group.id': \"foo_group\",\n",
    "        'auto.offset.reset': 'earliest'}\n",
    "\n",
    "consumer = Consumer(conf)"
   ]
  },
  {
   "cell_type": "code",
   "execution_count": 21,
   "metadata": {},
   "outputs": [],
   "source": [
    "consumer.subscribe([\"testi\"])"
   ]
  },
  {
   "cell_type": "code",
   "execution_count": 28,
   "metadata": {},
   "outputs": [],
   "source": [
    "msg = consumer.poll(timeout=1.0)"
   ]
  },
  {
   "cell_type": "code",
   "execution_count": 29,
   "metadata": {},
   "outputs": [
    {
     "ename": "AttributeError",
     "evalue": "'NoneType' object has no attribute 'value'",
     "output_type": "error",
     "traceback": [
      "\u001b[0;31m---------------------------------------------------------------------------\u001b[0m",
      "\u001b[0;31mAttributeError\u001b[0m                            Traceback (most recent call last)",
      "\u001b[0;32m/tmp/ipykernel_204219/2841482284.py\u001b[0m in \u001b[0;36m<module>\u001b[0;34m\u001b[0m\n\u001b[0;32m----> 1\u001b[0;31m \u001b[0mmsg\u001b[0m\u001b[0;34m.\u001b[0m\u001b[0mvalue\u001b[0m\u001b[0;34m(\u001b[0m\u001b[0;34m)\u001b[0m\u001b[0;34m\u001b[0m\u001b[0;34m\u001b[0m\u001b[0m\n\u001b[0m",
      "\u001b[0;31mAttributeError\u001b[0m: 'NoneType' object has no attribute 'value'"
     ]
    },
    {
     "name": "stderr",
     "output_type": "stream",
     "text": [
      "%4|1683380593.892|MAXPOLL|rdkafka#consumer-3| [thrd:main]: Application maximum poll interval (300000ms) exceeded by 100ms (adjust max.poll.interval.ms for long-running message processing): leaving group\n"
     ]
    }
   ],
   "source": [
    "msg.value()"
   ]
  },
  {
   "attachments": {},
   "cell_type": "markdown",
   "metadata": {},
   "source": [
    "# Stream"
   ]
  },
  {
   "cell_type": "code",
   "execution_count": 59,
   "metadata": {},
   "outputs": [
    {
     "data": {
      "text/html": [
       "<div>\n",
       "<style scoped>\n",
       "    .dataframe tbody tr th:only-of-type {\n",
       "        vertical-align: middle;\n",
       "    }\n",
       "\n",
       "    .dataframe tbody tr th {\n",
       "        vertical-align: top;\n",
       "    }\n",
       "\n",
       "    .dataframe thead th {\n",
       "        text-align: right;\n",
       "    }\n",
       "</style>\n",
       "<table border=\"1\" class=\"dataframe\">\n",
       "  <thead>\n",
       "    <tr style=\"text-align: right;\">\n",
       "      <th></th>\n",
       "      <th>image_name</th>\n",
       "      <th>comment_number</th>\n",
       "      <th>comment</th>\n",
       "    </tr>\n",
       "  </thead>\n",
       "  <tbody>\n",
       "    <tr>\n",
       "      <th>0</th>\n",
       "      <td>1000092795.jpg</td>\n",
       "      <td>0</td>\n",
       "      <td>Two young guys with shaggy hair look at their...</td>\n",
       "    </tr>\n",
       "    <tr>\n",
       "      <th>1</th>\n",
       "      <td>1000092795.jpg</td>\n",
       "      <td>1</td>\n",
       "      <td>Two young , White males are outside near many...</td>\n",
       "    </tr>\n",
       "    <tr>\n",
       "      <th>2</th>\n",
       "      <td>1000092795.jpg</td>\n",
       "      <td>2</td>\n",
       "      <td>Two men in green shirts are standing in a yard .</td>\n",
       "    </tr>\n",
       "    <tr>\n",
       "      <th>3</th>\n",
       "      <td>1000092795.jpg</td>\n",
       "      <td>3</td>\n",
       "      <td>A man in a blue shirt standing in a garden .</td>\n",
       "    </tr>\n",
       "    <tr>\n",
       "      <th>4</th>\n",
       "      <td>1000092795.jpg</td>\n",
       "      <td>4</td>\n",
       "      <td>Two friends enjoy time spent together .</td>\n",
       "    </tr>\n",
       "  </tbody>\n",
       "</table>\n",
       "</div>"
      ],
      "text/plain": [
       "       image_name   comment_number  \\\n",
       "0  1000092795.jpg                0   \n",
       "1  1000092795.jpg                1   \n",
       "2  1000092795.jpg                2   \n",
       "3  1000092795.jpg                3   \n",
       "4  1000092795.jpg                4   \n",
       "\n",
       "                                             comment  \n",
       "0   Two young guys with shaggy hair look at their...  \n",
       "1   Two young , White males are outside near many...  \n",
       "2   Two men in green shirts are standing in a yard .  \n",
       "3       A man in a blue shirt standing in a garden .  \n",
       "4            Two friends enjoy time spent together .  "
      ]
     },
     "execution_count": 59,
     "metadata": {},
     "output_type": "execute_result"
    }
   ],
   "source": [
    "import pandas as pd\n",
    "\n",
    "df = pd.read_csv(\"/home/divar/university/MLOps/Project/data/flickr30k_text.csv/results.csv\", sep=\"|\")\n",
    "df.head()"
   ]
  },
  {
   "cell_type": "code",
   "execution_count": null,
   "metadata": {},
   "outputs": [],
   "source": [
    "from confluent_kafka import Producer\n",
    "import socket\n",
    "\n",
    "conf = {'bootstrap.servers': \"localhost:9092\",\n",
    "        'client.id': socket.gethostname()}\n",
    "\n",
    "producer = Producer(conf)"
   ]
  },
  {
   "cell_type": "code",
   "execution_count": 64,
   "metadata": {},
   "outputs": [
    {
     "data": {
      "text/plain": [
       "image_name         158915\n",
       " comment_number    158915\n",
       " comment           158915\n",
       "dtype: int64"
      ]
     },
     "execution_count": 64,
     "metadata": {},
     "output_type": "execute_result"
    }
   ],
   "source": [
    "df.count()"
   ]
  },
  {
   "cell_type": "code",
   "execution_count": 65,
   "metadata": {},
   "outputs": [
    {
     "data": {
      "text/plain": [
       "0"
      ]
     },
     "execution_count": 65,
     "metadata": {},
     "output_type": "execute_result"
    }
   ],
   "source": [
    "import json\n",
    "\n",
    "for i, row in df.iterrows():\n",
    "    try:\n",
    "        producer.produce(topic=\"english_only_data\", value=json.dumps({\n",
    "            \"dataset\": \"flickr30k\",\n",
    "            \"image_id\": row[\"image_name\"],\n",
    "            \"english_sentence\": row[\" comment\"][1:],\n",
    "        }))\n",
    "    except Exception as e:\n",
    "        print(row)\n",
    "        raise e\n",
    "    if i % 1000 == 0:\n",
    "        producer.flush()\n",
    "\n",
    "producer.flush()"
   ]
  },
  {
   "attachments": {},
   "cell_type": "markdown",
   "metadata": {},
   "source": [
    "# Translate"
   ]
  },
  {
   "cell_type": "code",
   "execution_count": 12,
   "metadata": {},
   "outputs": [
    {
     "name": "stdout",
     "output_type": "stream",
     "text": [
      "Requirement already satisfied: googletrans==3.1.0a0 in /home/divar/anaconda3/lib/python3.9/site-packages (3.1.0a0)\n",
      "Collecting httpx==0.13.3\n",
      "  Using cached httpx-0.13.3-py3-none-any.whl (55 kB)\n",
      "Requirement already satisfied: sniffio in /home/divar/anaconda3/lib/python3.9/site-packages (from httpx==0.13.3->googletrans==3.1.0a0) (1.3.0)\n",
      "Requirement already satisfied: rfc3986<2,>=1.3 in /home/divar/anaconda3/lib/python3.9/site-packages (from httpx==0.13.3->googletrans==3.1.0a0) (1.5.0)\n",
      "Collecting idna==2.*\n",
      "  Using cached idna-2.10-py2.py3-none-any.whl (58 kB)\n",
      "Requirement already satisfied: hstspreload in /home/divar/anaconda3/lib/python3.9/site-packages (from httpx==0.13.3->googletrans==3.1.0a0) (2023.1.1)\n",
      "Requirement already satisfied: certifi in /home/divar/anaconda3/lib/python3.9/site-packages (from httpx==0.13.3->googletrans==3.1.0a0) (2022.12.7)\n",
      "Collecting httpcore==0.9.*\n",
      "  Using cached httpcore-0.9.1-py3-none-any.whl (42 kB)\n",
      "Requirement already satisfied: chardet==3.* in /home/divar/anaconda3/lib/python3.9/site-packages (from httpx==0.13.3->googletrans==3.1.0a0) (3.0.4)\n",
      "Collecting h11<0.10,>=0.8\n",
      "  Using cached h11-0.9.0-py2.py3-none-any.whl (53 kB)\n",
      "Requirement already satisfied: h2==3.* in /home/divar/anaconda3/lib/python3.9/site-packages (from httpcore==0.9.*->httpx==0.13.3->googletrans==3.1.0a0) (3.2.0)\n",
      "Requirement already satisfied: hpack<4,>=3.0 in /home/divar/anaconda3/lib/python3.9/site-packages (from h2==3.*->httpcore==0.9.*->httpx==0.13.3->googletrans==3.1.0a0) (3.0.0)\n",
      "Requirement already satisfied: hyperframe<6,>=5.2.0 in /home/divar/anaconda3/lib/python3.9/site-packages (from h2==3.*->httpcore==0.9.*->httpx==0.13.3->googletrans==3.1.0a0) (5.2.0)\n",
      "Installing collected packages: h11, idna, httpcore, httpx\n",
      "  Attempting uninstall: h11\n",
      "    Found existing installation: h11 0.14.0\n",
      "    Uninstalling h11-0.14.0:\n",
      "      Successfully uninstalled h11-0.14.0\n",
      "  Attempting uninstall: idna\n",
      "    Found existing installation: idna 3.4\n",
      "    Uninstalling idna-3.4:\n",
      "      Successfully uninstalled idna-3.4\n",
      "  Attempting uninstall: httpcore\n",
      "    Found existing installation: httpcore 0.16.3\n",
      "    Uninstalling httpcore-0.16.3:\n",
      "      Successfully uninstalled httpcore-0.16.3\n",
      "  Attempting uninstall: httpx\n",
      "    Found existing installation: httpx 0.23.3\n",
      "    Uninstalling httpx-0.23.3:\n",
      "      Successfully uninstalled httpx-0.23.3\n",
      "\u001b[31mERROR: pip's dependency resolver does not currently take into account all the packages that are installed. This behaviour is the source of the following dependency conflicts.\n",
      "anaconda-project 0.11.1 requires ruamel-yaml, which is not installed.\n",
      "conda-repo-cli 1.0.20 requires clyent==1.2.1, but you have clyent 1.2.2 which is incompatible.\n",
      "conda-repo-cli 1.0.20 requires nbformat==5.4.0, but you have nbformat 5.5.0 which is incompatible.\n",
      "conda-repo-cli 1.0.20 requires requests==2.28.1, but you have requests 2.29.0 which is incompatible.\u001b[0m\u001b[31m\n",
      "\u001b[0mSuccessfully installed h11-0.9.0 httpcore-0.9.1 httpx-0.13.3 idna-2.10\n",
      "\n",
      "\u001b[1m[\u001b[0m\u001b[34;49mnotice\u001b[0m\u001b[1;39;49m]\u001b[0m\u001b[39;49m A new release of pip is available: \u001b[0m\u001b[31;49m23.0.1\u001b[0m\u001b[39;49m -> \u001b[0m\u001b[32;49m23.1.2\u001b[0m\n",
      "\u001b[1m[\u001b[0m\u001b[34;49mnotice\u001b[0m\u001b[1;39;49m]\u001b[0m\u001b[39;49m To update, run: \u001b[0m\u001b[32;49mpip install --upgrade pip\u001b[0m\n"
     ]
    }
   ],
   "source": [
    "!pip install googletrans==3.1.0a0"
   ]
  },
  {
   "cell_type": "code",
   "execution_count": 3,
   "metadata": {},
   "outputs": [
    {
     "data": {
      "text/plain": [
       "'هوا اینجا عالیه!'"
      ]
     },
     "execution_count": 3,
     "metadata": {},
     "output_type": "execute_result"
    }
   ],
   "source": [
    "from googletrans import Translator\n",
    "translator = Translator()\n",
    "\n",
    "def translate(english_sentence):\n",
    "    return translator.translate(english_sentence, src='en', dest='fa').text\n",
    "\n",
    "translate(\"The weather is great here!\")"
   ]
  },
  {
   "cell_type": "code",
   "execution_count": 68,
   "metadata": {},
   "outputs": [],
   "source": [
    "def translate_and_produce(msg_value):\n",
    "    data = json.loads(msg_value)\n",
    "    data[\"farsi_sentence\"] = translate(data[\"english_sentence\"])\n",
    "    producer.produce(topic=\"translated_data\", value=json.dumps(data))"
   ]
  },
  {
   "cell_type": "code",
   "execution_count": 69,
   "metadata": {},
   "outputs": [
    {
     "ename": "ReadTimeout",
     "evalue": "The read operation timed out",
     "output_type": "error",
     "traceback": [
      "\u001b[0;31m---------------------------------------------------------------------------\u001b[0m",
      "\u001b[0;31mReadTimeout\u001b[0m                               Traceback (most recent call last)",
      "\u001b[0;32m/tmp/ipykernel_204219/222616956.py\u001b[0m in \u001b[0;36m<module>\u001b[0;34m\u001b[0m\n\u001b[1;32m     11\u001b[0m             \u001b[0;32mraise\u001b[0m \u001b[0mKafkaException\u001b[0m\u001b[0;34m(\u001b[0m\u001b[0mmsg\u001b[0m\u001b[0;34m.\u001b[0m\u001b[0merror\u001b[0m\u001b[0;34m(\u001b[0m\u001b[0;34m)\u001b[0m\u001b[0;34m)\u001b[0m\u001b[0;34m\u001b[0m\u001b[0;34m\u001b[0m\u001b[0m\n\u001b[1;32m     12\u001b[0m \u001b[0;34m\u001b[0m\u001b[0m\n\u001b[0;32m---> 13\u001b[0;31m     \u001b[0mtranslate_and_produce\u001b[0m\u001b[0;34m(\u001b[0m\u001b[0mmsg\u001b[0m\u001b[0;34m.\u001b[0m\u001b[0mvalue\u001b[0m\u001b[0;34m(\u001b[0m\u001b[0;34m)\u001b[0m\u001b[0;34m)\u001b[0m\u001b[0;34m\u001b[0m\u001b[0;34m\u001b[0m\u001b[0m\n\u001b[0m",
      "\u001b[0;32m/tmp/ipykernel_204219/709887683.py\u001b[0m in \u001b[0;36mtranslate_and_produce\u001b[0;34m(msg_value)\u001b[0m\n\u001b[1;32m      1\u001b[0m \u001b[0;32mdef\u001b[0m \u001b[0mtranslate_and_produce\u001b[0m\u001b[0;34m(\u001b[0m\u001b[0mmsg_value\u001b[0m\u001b[0;34m)\u001b[0m\u001b[0;34m:\u001b[0m\u001b[0;34m\u001b[0m\u001b[0;34m\u001b[0m\u001b[0m\n\u001b[1;32m      2\u001b[0m     \u001b[0mdata\u001b[0m \u001b[0;34m=\u001b[0m \u001b[0mjson\u001b[0m\u001b[0;34m.\u001b[0m\u001b[0mloads\u001b[0m\u001b[0;34m(\u001b[0m\u001b[0mmsg_value\u001b[0m\u001b[0;34m)\u001b[0m\u001b[0;34m\u001b[0m\u001b[0;34m\u001b[0m\u001b[0m\n\u001b[0;32m----> 3\u001b[0;31m     \u001b[0mdata\u001b[0m\u001b[0;34m[\u001b[0m\u001b[0;34m\"farsi_sentence\"\u001b[0m\u001b[0;34m]\u001b[0m \u001b[0;34m=\u001b[0m \u001b[0mtranslate\u001b[0m\u001b[0;34m(\u001b[0m\u001b[0mdata\u001b[0m\u001b[0;34m[\u001b[0m\u001b[0;34m\"english_sentence\"\u001b[0m\u001b[0;34m]\u001b[0m\u001b[0;34m)\u001b[0m\u001b[0;34m\u001b[0m\u001b[0;34m\u001b[0m\u001b[0m\n\u001b[0m\u001b[1;32m      4\u001b[0m     \u001b[0mproducer\u001b[0m\u001b[0;34m.\u001b[0m\u001b[0mproduce\u001b[0m\u001b[0;34m(\u001b[0m\u001b[0mtopic\u001b[0m\u001b[0;34m=\u001b[0m\u001b[0;34m\"translated_data\"\u001b[0m\u001b[0;34m,\u001b[0m \u001b[0mvalue\u001b[0m\u001b[0;34m=\u001b[0m\u001b[0mjson\u001b[0m\u001b[0;34m.\u001b[0m\u001b[0mdumps\u001b[0m\u001b[0;34m(\u001b[0m\u001b[0mdata\u001b[0m\u001b[0;34m)\u001b[0m\u001b[0;34m)\u001b[0m\u001b[0;34m\u001b[0m\u001b[0;34m\u001b[0m\u001b[0m\n",
      "\u001b[0;32m/tmp/ipykernel_204219/1239898310.py\u001b[0m in \u001b[0;36mtranslate\u001b[0;34m(english_sentence)\u001b[0m\n\u001b[1;32m      3\u001b[0m \u001b[0;34m\u001b[0m\u001b[0m\n\u001b[1;32m      4\u001b[0m \u001b[0;32mdef\u001b[0m \u001b[0mtranslate\u001b[0m\u001b[0;34m(\u001b[0m\u001b[0menglish_sentence\u001b[0m\u001b[0;34m)\u001b[0m\u001b[0;34m:\u001b[0m\u001b[0;34m\u001b[0m\u001b[0;34m\u001b[0m\u001b[0m\n\u001b[0;32m----> 5\u001b[0;31m     \u001b[0;32mreturn\u001b[0m \u001b[0mtranslator\u001b[0m\u001b[0;34m.\u001b[0m\u001b[0mtranslate\u001b[0m\u001b[0;34m(\u001b[0m\u001b[0menglish_sentence\u001b[0m\u001b[0;34m,\u001b[0m \u001b[0msrc\u001b[0m\u001b[0;34m=\u001b[0m\u001b[0;34m'en'\u001b[0m\u001b[0;34m,\u001b[0m \u001b[0mdest\u001b[0m\u001b[0;34m=\u001b[0m\u001b[0;34m'fa'\u001b[0m\u001b[0;34m)\u001b[0m\u001b[0;34m.\u001b[0m\u001b[0mtext\u001b[0m\u001b[0;34m\u001b[0m\u001b[0;34m\u001b[0m\u001b[0m\n\u001b[0m\u001b[1;32m      6\u001b[0m \u001b[0;34m\u001b[0m\u001b[0m\n\u001b[1;32m      7\u001b[0m \u001b[0mtranslate\u001b[0m\u001b[0;34m(\u001b[0m\u001b[0;34m\"The weather is great here!\"\u001b[0m\u001b[0;34m)\u001b[0m\u001b[0;34m\u001b[0m\u001b[0;34m\u001b[0m\u001b[0m\n",
      "\u001b[0;32m~/anaconda3/lib/python3.9/site-packages/googletrans/client.py\u001b[0m in \u001b[0;36mtranslate\u001b[0;34m(self, text, dest, src, **kwargs)\u001b[0m\n\u001b[1;32m    208\u001b[0m \u001b[0;34m\u001b[0m\u001b[0m\n\u001b[1;32m    209\u001b[0m         \u001b[0morigin\u001b[0m \u001b[0;34m=\u001b[0m \u001b[0mtext\u001b[0m\u001b[0;34m\u001b[0m\u001b[0;34m\u001b[0m\u001b[0m\n\u001b[0;32m--> 210\u001b[0;31m         \u001b[0mdata\u001b[0m\u001b[0;34m,\u001b[0m \u001b[0mresponse\u001b[0m \u001b[0;34m=\u001b[0m \u001b[0mself\u001b[0m\u001b[0;34m.\u001b[0m\u001b[0m_translate\u001b[0m\u001b[0;34m(\u001b[0m\u001b[0mtext\u001b[0m\u001b[0;34m,\u001b[0m \u001b[0mdest\u001b[0m\u001b[0;34m,\u001b[0m \u001b[0msrc\u001b[0m\u001b[0;34m,\u001b[0m \u001b[0mkwargs\u001b[0m\u001b[0;34m)\u001b[0m\u001b[0;34m\u001b[0m\u001b[0;34m\u001b[0m\u001b[0m\n\u001b[0m\u001b[1;32m    211\u001b[0m \u001b[0;34m\u001b[0m\u001b[0m\n\u001b[1;32m    212\u001b[0m         \u001b[0;31m# this code will be updated when the format is changed.\u001b[0m\u001b[0;34m\u001b[0m\u001b[0;34m\u001b[0m\u001b[0m\n",
      "\u001b[0;32m~/anaconda3/lib/python3.9/site-packages/googletrans/client.py\u001b[0m in \u001b[0;36m_translate\u001b[0;34m(self, text, dest, src, override)\u001b[0m\n\u001b[1;32m    106\u001b[0m \u001b[0;34m\u001b[0m\u001b[0m\n\u001b[1;32m    107\u001b[0m         \u001b[0murl\u001b[0m \u001b[0;34m=\u001b[0m \u001b[0murls\u001b[0m\u001b[0;34m.\u001b[0m\u001b[0mTRANSLATE\u001b[0m\u001b[0;34m.\u001b[0m\u001b[0mformat\u001b[0m\u001b[0;34m(\u001b[0m\u001b[0mhost\u001b[0m\u001b[0;34m=\u001b[0m\u001b[0mself\u001b[0m\u001b[0;34m.\u001b[0m\u001b[0m_pick_service_url\u001b[0m\u001b[0;34m(\u001b[0m\u001b[0;34m)\u001b[0m\u001b[0;34m)\u001b[0m\u001b[0;34m\u001b[0m\u001b[0;34m\u001b[0m\u001b[0m\n\u001b[0;32m--> 108\u001b[0;31m         \u001b[0mr\u001b[0m \u001b[0;34m=\u001b[0m \u001b[0mself\u001b[0m\u001b[0;34m.\u001b[0m\u001b[0mclient\u001b[0m\u001b[0;34m.\u001b[0m\u001b[0mget\u001b[0m\u001b[0;34m(\u001b[0m\u001b[0murl\u001b[0m\u001b[0;34m,\u001b[0m \u001b[0mparams\u001b[0m\u001b[0;34m=\u001b[0m\u001b[0mparams\u001b[0m\u001b[0;34m)\u001b[0m\u001b[0;34m\u001b[0m\u001b[0;34m\u001b[0m\u001b[0m\n\u001b[0m\u001b[1;32m    109\u001b[0m \u001b[0;34m\u001b[0m\u001b[0m\n\u001b[1;32m    110\u001b[0m         \u001b[0;32mif\u001b[0m \u001b[0mr\u001b[0m\u001b[0;34m.\u001b[0m\u001b[0mstatus_code\u001b[0m \u001b[0;34m==\u001b[0m \u001b[0;36m200\u001b[0m\u001b[0;34m:\u001b[0m\u001b[0;34m\u001b[0m\u001b[0;34m\u001b[0m\u001b[0m\n",
      "\u001b[0;32m~/anaconda3/lib/python3.9/site-packages/httpx/_client.py\u001b[0m in \u001b[0;36mget\u001b[0;34m(self, url, params, headers, cookies, auth, allow_redirects, timeout)\u001b[0m\n\u001b[1;32m    753\u001b[0m             \u001b[0mproxy\u001b[0m\u001b[0;34m=\u001b[0m\u001b[0mproxy\u001b[0m\u001b[0;34m,\u001b[0m\u001b[0;34m\u001b[0m\u001b[0;34m\u001b[0m\u001b[0m\n\u001b[1;32m    754\u001b[0m         )\n\u001b[0;32m--> 755\u001b[0;31m \u001b[0;34m\u001b[0m\u001b[0m\n\u001b[0m\u001b[1;32m    756\u001b[0m     \u001b[0;32mdef\u001b[0m \u001b[0m_transport_for_url\u001b[0m\u001b[0;34m(\u001b[0m\u001b[0mself\u001b[0m\u001b[0;34m,\u001b[0m \u001b[0murl\u001b[0m\u001b[0;34m:\u001b[0m \u001b[0mURL\u001b[0m\u001b[0;34m)\u001b[0m \u001b[0;34m->\u001b[0m \u001b[0mBaseTransport\u001b[0m\u001b[0;34m:\u001b[0m\u001b[0;34m\u001b[0m\u001b[0;34m\u001b[0m\u001b[0m\n\u001b[1;32m    757\u001b[0m         \"\"\"\n",
      "\u001b[0;32m~/anaconda3/lib/python3.9/site-packages/httpx/_client.py\u001b[0m in \u001b[0;36mrequest\u001b[0;34m(self, method, url, data, files, json, params, headers, cookies, auth, allow_redirects, timeout)\u001b[0m\n\u001b[1;32m    598\u001b[0m     \u001b[0msending\u001b[0m \u001b[0mrequests\u001b[0m\u001b[0;34m.\u001b[0m\u001b[0;34m\u001b[0m\u001b[0;34m\u001b[0m\u001b[0m\n\u001b[1;32m    599\u001b[0m     \u001b[0;34m*\u001b[0m \u001b[0;34m**\u001b[0m\u001b[0mverify\u001b[0m\u001b[0;34m**\u001b[0m \u001b[0;34m-\u001b[0m \u001b[0;34m*\u001b[0m\u001b[0;34m(\u001b[0m\u001b[0moptional\u001b[0m\u001b[0;34m)\u001b[0m\u001b[0;34m*\u001b[0m \u001b[0mSSL\u001b[0m \u001b[0mcertificates\u001b[0m \u001b[0;34m(\u001b[0m\u001b[0ma\u001b[0m\u001b[0;34m.\u001b[0m\u001b[0mk\u001b[0m\u001b[0;34m.\u001b[0m\u001b[0ma\u001b[0m \u001b[0mCA\u001b[0m \u001b[0mbundle\u001b[0m\u001b[0;34m)\u001b[0m \u001b[0mused\u001b[0m \u001b[0mto\u001b[0m\u001b[0;34m\u001b[0m\u001b[0;34m\u001b[0m\u001b[0m\n\u001b[0;32m--> 600\u001b[0;31m     \u001b[0mverify\u001b[0m \u001b[0mthe\u001b[0m \u001b[0midentity\u001b[0m \u001b[0mof\u001b[0m \u001b[0mrequested\u001b[0m \u001b[0mhosts\u001b[0m\u001b[0;34m.\u001b[0m \u001b[0mEither\u001b[0m\u001b[0;31m \u001b[0m\u001b[0;31m`\u001b[0m\u001b[0;32mTrue\u001b[0m\u001b[0;31m`\u001b[0m \u001b[0;34m(\u001b[0m\u001b[0mdefault\u001b[0m \u001b[0mCA\u001b[0m \u001b[0mbundle\u001b[0m\u001b[0;34m)\u001b[0m\u001b[0;34m,\u001b[0m\u001b[0;34m\u001b[0m\u001b[0;34m\u001b[0m\u001b[0m\n\u001b[0m\u001b[1;32m    601\u001b[0m     \u001b[0ma\u001b[0m \u001b[0mpath\u001b[0m \u001b[0mto\u001b[0m \u001b[0man\u001b[0m \u001b[0mSSL\u001b[0m \u001b[0mcertificate\u001b[0m \u001b[0mfile\u001b[0m\u001b[0;34m,\u001b[0m \u001b[0man\u001b[0m\u001b[0;31m \u001b[0m\u001b[0;31m`\u001b[0m\u001b[0mssl\u001b[0m\u001b[0;34m.\u001b[0m\u001b[0mSSLContext\u001b[0m\u001b[0;31m`\u001b[0m\u001b[0;34m,\u001b[0m \u001b[0;32mor\u001b[0m\u001b[0;31m \u001b[0m\u001b[0;31m`\u001b[0m\u001b[0;32mFalse\u001b[0m\u001b[0;31m`\u001b[0m\u001b[0;34m\u001b[0m\u001b[0;34m\u001b[0m\u001b[0m\n\u001b[1;32m    602\u001b[0m     \u001b[0;34m(\u001b[0m\u001b[0mwhich\u001b[0m \u001b[0mwill\u001b[0m \u001b[0mdisable\u001b[0m \u001b[0mverification\u001b[0m\u001b[0;34m)\u001b[0m\u001b[0;34m.\u001b[0m\u001b[0;34m\u001b[0m\u001b[0;34m\u001b[0m\u001b[0m\n",
      "\u001b[0;32m~/anaconda3/lib/python3.9/site-packages/httpx/_client.py\u001b[0m in \u001b[0;36msend\u001b[0;34m(self, request, stream, auth, allow_redirects, timeout)\u001b[0m\n\u001b[1;32m    618\u001b[0m     \u001b[0;34m*\u001b[0m \u001b[0;34m**\u001b[0m\u001b[0mapp\u001b[0m\u001b[0;34m**\u001b[0m \u001b[0;34m-\u001b[0m \u001b[0;34m*\u001b[0m\u001b[0;34m(\u001b[0m\u001b[0moptional\u001b[0m\u001b[0;34m)\u001b[0m\u001b[0;34m*\u001b[0m \u001b[0mAn\u001b[0m \u001b[0mWSGI\u001b[0m \u001b[0mapplication\u001b[0m \u001b[0mto\u001b[0m \u001b[0msend\u001b[0m \u001b[0mrequests\u001b[0m \u001b[0mto\u001b[0m\u001b[0;34m,\u001b[0m\u001b[0;34m\u001b[0m\u001b[0;34m\u001b[0m\u001b[0m\n\u001b[1;32m    619\u001b[0m     \u001b[0mrather\u001b[0m \u001b[0mthan\u001b[0m \u001b[0msending\u001b[0m \u001b[0mactual\u001b[0m \u001b[0mnetwork\u001b[0m \u001b[0mrequests\u001b[0m\u001b[0;34m.\u001b[0m\u001b[0;34m\u001b[0m\u001b[0;34m\u001b[0m\u001b[0m\n\u001b[0;32m--> 620\u001b[0;31m     \u001b[0;34m*\u001b[0m \u001b[0;34m**\u001b[0m\u001b[0mtrust_env\u001b[0m\u001b[0;34m**\u001b[0m \u001b[0;34m-\u001b[0m \u001b[0;34m*\u001b[0m\u001b[0;34m(\u001b[0m\u001b[0moptional\u001b[0m\u001b[0;34m)\u001b[0m\u001b[0;34m*\u001b[0m \u001b[0mEnables\u001b[0m \u001b[0;32mor\u001b[0m \u001b[0mdisables\u001b[0m \u001b[0musage\u001b[0m \u001b[0mof\u001b[0m \u001b[0menvironment\u001b[0m\u001b[0;34m\u001b[0m\u001b[0;34m\u001b[0m\u001b[0m\n\u001b[0m\u001b[1;32m    621\u001b[0m     \u001b[0mvariables\u001b[0m \u001b[0;32mfor\u001b[0m \u001b[0mconfiguration\u001b[0m\u001b[0;34m.\u001b[0m\u001b[0;34m\u001b[0m\u001b[0;34m\u001b[0m\u001b[0m\n\u001b[1;32m    622\u001b[0m     \u001b[0;34m*\u001b[0m \u001b[0;34m**\u001b[0m\u001b[0mdefault_encoding\u001b[0m\u001b[0;34m**\u001b[0m \u001b[0;34m-\u001b[0m \u001b[0;34m*\u001b[0m\u001b[0;34m(\u001b[0m\u001b[0moptional\u001b[0m\u001b[0;34m)\u001b[0m\u001b[0;34m*\u001b[0m \u001b[0mThe\u001b[0m \u001b[0mdefault\u001b[0m \u001b[0mencoding\u001b[0m \u001b[0mto\u001b[0m \u001b[0muse\u001b[0m \u001b[0;32mfor\u001b[0m \u001b[0mdecoding\u001b[0m\u001b[0;34m\u001b[0m\u001b[0;34m\u001b[0m\u001b[0m\n",
      "\u001b[0;32m~/anaconda3/lib/python3.9/site-packages/httpx/_client.py\u001b[0m in \u001b[0;36msend_handling_redirects\u001b[0;34m(self, request, auth, timeout, allow_redirects, history)\u001b[0m\n\u001b[1;32m    645\u001b[0m             \u001b[0mtyping\u001b[0m\u001b[0;34m.\u001b[0m\u001b[0mMapping\u001b[0m\u001b[0;34m[\u001b[0m\u001b[0mstr\u001b[0m\u001b[0;34m,\u001b[0m \u001b[0mtyping\u001b[0m\u001b[0;34m.\u001b[0m\u001b[0mList\u001b[0m\u001b[0;34m[\u001b[0m\u001b[0mEventHook\u001b[0m\u001b[0;34m]\u001b[0m\u001b[0;34m]\u001b[0m\u001b[0;34m\u001b[0m\u001b[0;34m\u001b[0m\u001b[0m\n\u001b[1;32m    646\u001b[0m         ] = None,\n\u001b[0;32m--> 647\u001b[0;31m         \u001b[0mbase_url\u001b[0m\u001b[0;34m:\u001b[0m \u001b[0mURLTypes\u001b[0m \u001b[0;34m=\u001b[0m \u001b[0;34m\"\"\u001b[0m\u001b[0;34m,\u001b[0m\u001b[0;34m\u001b[0m\u001b[0;34m\u001b[0m\u001b[0m\n\u001b[0m\u001b[1;32m    648\u001b[0m         \u001b[0mtransport\u001b[0m\u001b[0;34m:\u001b[0m \u001b[0mtyping\u001b[0m\u001b[0;34m.\u001b[0m\u001b[0mOptional\u001b[0m\u001b[0;34m[\u001b[0m\u001b[0mBaseTransport\u001b[0m\u001b[0;34m]\u001b[0m \u001b[0;34m=\u001b[0m \u001b[0;32mNone\u001b[0m\u001b[0;34m,\u001b[0m\u001b[0;34m\u001b[0m\u001b[0;34m\u001b[0m\u001b[0m\n\u001b[1;32m    649\u001b[0m         \u001b[0mapp\u001b[0m\u001b[0;34m:\u001b[0m \u001b[0mtyping\u001b[0m\u001b[0;34m.\u001b[0m\u001b[0mOptional\u001b[0m\u001b[0;34m[\u001b[0m\u001b[0mtyping\u001b[0m\u001b[0;34m.\u001b[0m\u001b[0mCallable\u001b[0m\u001b[0;34m[\u001b[0m\u001b[0;34m...\u001b[0m\u001b[0;34m,\u001b[0m \u001b[0mtyping\u001b[0m\u001b[0;34m.\u001b[0m\u001b[0mAny\u001b[0m\u001b[0;34m]\u001b[0m\u001b[0;34m]\u001b[0m \u001b[0;34m=\u001b[0m \u001b[0;32mNone\u001b[0m\u001b[0;34m,\u001b[0m\u001b[0;34m\u001b[0m\u001b[0;34m\u001b[0m\u001b[0m\n",
      "\u001b[0;32m~/anaconda3/lib/python3.9/site-packages/httpx/_client.py\u001b[0m in \u001b[0;36msend_handling_auth\u001b[0;34m(self, request, history, auth, timeout)\u001b[0m\n\u001b[1;32m    682\u001b[0m             \u001b[0mhttp1\u001b[0m\u001b[0;34m=\u001b[0m\u001b[0mhttp1\u001b[0m\u001b[0;34m,\u001b[0m\u001b[0;34m\u001b[0m\u001b[0;34m\u001b[0m\u001b[0m\n\u001b[1;32m    683\u001b[0m             \u001b[0mhttp2\u001b[0m\u001b[0;34m=\u001b[0m\u001b[0mhttp2\u001b[0m\u001b[0;34m,\u001b[0m\u001b[0;34m\u001b[0m\u001b[0;34m\u001b[0m\u001b[0m\n\u001b[0;32m--> 684\u001b[0;31m             \u001b[0mlimits\u001b[0m\u001b[0;34m=\u001b[0m\u001b[0mlimits\u001b[0m\u001b[0;34m,\u001b[0m\u001b[0;34m\u001b[0m\u001b[0;34m\u001b[0m\u001b[0m\n\u001b[0m\u001b[1;32m    685\u001b[0m             \u001b[0mtransport\u001b[0m\u001b[0;34m=\u001b[0m\u001b[0mtransport\u001b[0m\u001b[0;34m,\u001b[0m\u001b[0;34m\u001b[0m\u001b[0;34m\u001b[0m\u001b[0m\n\u001b[1;32m    686\u001b[0m             \u001b[0mapp\u001b[0m\u001b[0;34m=\u001b[0m\u001b[0mapp\u001b[0m\u001b[0;34m,\u001b[0m\u001b[0;34m\u001b[0m\u001b[0;34m\u001b[0m\u001b[0m\n",
      "\u001b[0;32m~/anaconda3/lib/python3.9/site-packages/httpx/_client.py\u001b[0m in \u001b[0;36msend_single_request\u001b[0;34m(self, request, timeout)\u001b[0m\n\u001b[1;32m    712\u001b[0m         \u001b[0mverify\u001b[0m\u001b[0;34m:\u001b[0m \u001b[0mVerifyTypes\u001b[0m \u001b[0;34m=\u001b[0m \u001b[0;32mTrue\u001b[0m\u001b[0;34m,\u001b[0m\u001b[0;34m\u001b[0m\u001b[0;34m\u001b[0m\u001b[0m\n\u001b[1;32m    713\u001b[0m         \u001b[0mcert\u001b[0m\u001b[0;34m:\u001b[0m \u001b[0mtyping\u001b[0m\u001b[0;34m.\u001b[0m\u001b[0mOptional\u001b[0m\u001b[0;34m[\u001b[0m\u001b[0mCertTypes\u001b[0m\u001b[0;34m]\u001b[0m \u001b[0;34m=\u001b[0m \u001b[0;32mNone\u001b[0m\u001b[0;34m,\u001b[0m\u001b[0;34m\u001b[0m\u001b[0;34m\u001b[0m\u001b[0m\n\u001b[0;32m--> 714\u001b[0;31m         \u001b[0mhttp1\u001b[0m\u001b[0;34m:\u001b[0m \u001b[0mbool\u001b[0m \u001b[0;34m=\u001b[0m \u001b[0;32mTrue\u001b[0m\u001b[0;34m,\u001b[0m\u001b[0;34m\u001b[0m\u001b[0;34m\u001b[0m\u001b[0m\n\u001b[0m\u001b[1;32m    715\u001b[0m         \u001b[0mhttp2\u001b[0m\u001b[0;34m:\u001b[0m \u001b[0mbool\u001b[0m \u001b[0;34m=\u001b[0m \u001b[0;32mFalse\u001b[0m\u001b[0;34m,\u001b[0m\u001b[0;34m\u001b[0m\u001b[0;34m\u001b[0m\u001b[0m\n\u001b[1;32m    716\u001b[0m         \u001b[0mlimits\u001b[0m\u001b[0;34m:\u001b[0m \u001b[0mLimits\u001b[0m \u001b[0;34m=\u001b[0m \u001b[0mDEFAULT_LIMITS\u001b[0m\u001b[0;34m,\u001b[0m\u001b[0;34m\u001b[0m\u001b[0;34m\u001b[0m\u001b[0m\n",
      "\u001b[0;32m~/anaconda3/lib/python3.9/site-packages/httpcore/_sync/connection_pool.py\u001b[0m in \u001b[0;36mrequest\u001b[0;34m(self, method, url, headers, stream, timeout)\u001b[0m\n\u001b[1;32m    150\u001b[0m         \u001b[0;31m# connection. We handle requests strictly in order.\u001b[0m\u001b[0;34m\u001b[0m\u001b[0;34m\u001b[0m\u001b[0m\n\u001b[1;32m    151\u001b[0m         \u001b[0mwaiting\u001b[0m \u001b[0;34m=\u001b[0m \u001b[0;34m[\u001b[0m\u001b[0ms\u001b[0m \u001b[0;32mfor\u001b[0m \u001b[0ms\u001b[0m \u001b[0;32min\u001b[0m \u001b[0mself\u001b[0m\u001b[0;34m.\u001b[0m\u001b[0m_requests\u001b[0m \u001b[0;32mif\u001b[0m \u001b[0ms\u001b[0m\u001b[0;34m.\u001b[0m\u001b[0mconnection\u001b[0m \u001b[0;32mis\u001b[0m \u001b[0;32mNone\u001b[0m\u001b[0;34m]\u001b[0m\u001b[0;34m\u001b[0m\u001b[0;34m\u001b[0m\u001b[0m\n\u001b[0;32m--> 152\u001b[0;31m         \u001b[0;32mif\u001b[0m \u001b[0mwaiting\u001b[0m \u001b[0;32mand\u001b[0m \u001b[0mwaiting\u001b[0m\u001b[0;34m[\u001b[0m\u001b[0;36m0\u001b[0m\u001b[0;34m]\u001b[0m \u001b[0;32mis\u001b[0m \u001b[0;32mnot\u001b[0m \u001b[0mstatus\u001b[0m\u001b[0;34m:\u001b[0m\u001b[0;34m\u001b[0m\u001b[0;34m\u001b[0m\u001b[0m\n\u001b[0m\u001b[1;32m    153\u001b[0m             \u001b[0;32mreturn\u001b[0m \u001b[0;32mFalse\u001b[0m\u001b[0;34m\u001b[0m\u001b[0;34m\u001b[0m\u001b[0m\n\u001b[1;32m    154\u001b[0m \u001b[0;34m\u001b[0m\u001b[0m\n",
      "\u001b[0;32m~/anaconda3/lib/python3.9/site-packages/httpcore/_sync/connection.py\u001b[0m in \u001b[0;36mrequest\u001b[0;34m(self, method, url, headers, stream, timeout)\u001b[0m\n\u001b[1;32m     76\u001b[0m                             \u001b[0mkeepalive_expiry\u001b[0m\u001b[0;34m=\u001b[0m\u001b[0mself\u001b[0m\u001b[0;34m.\u001b[0m\u001b[0m_keepalive_expiry\u001b[0m\u001b[0;34m,\u001b[0m\u001b[0;34m\u001b[0m\u001b[0;34m\u001b[0m\u001b[0m\n\u001b[1;32m     77\u001b[0m                         )\n\u001b[0;32m---> 78\u001b[0;31m                     \u001b[0;32melse\u001b[0m\u001b[0;34m:\u001b[0m\u001b[0;34m\u001b[0m\u001b[0;34m\u001b[0m\u001b[0m\n\u001b[0m\u001b[1;32m     79\u001b[0m                         self._connection = HTTP11Connection(\n\u001b[1;32m     80\u001b[0m                             \u001b[0morigin\u001b[0m\u001b[0;34m=\u001b[0m\u001b[0mself\u001b[0m\u001b[0;34m.\u001b[0m\u001b[0m_origin\u001b[0m\u001b[0;34m,\u001b[0m\u001b[0;34m\u001b[0m\u001b[0;34m\u001b[0m\u001b[0m\n",
      "\u001b[0;32m~/anaconda3/lib/python3.9/site-packages/httpcore/_sync/http2.py\u001b[0m in \u001b[0;36mrequest\u001b[0;34m(self, method, url, headers, stream, timeout)\u001b[0m\n\u001b[1;32m    116\u001b[0m \u001b[0;34m\u001b[0m\u001b[0m\n\u001b[1;32m    117\u001b[0m             return Response(\n\u001b[0;32m--> 118\u001b[0;31m                 \u001b[0mstatus\u001b[0m\u001b[0;34m=\u001b[0m\u001b[0mstatus\u001b[0m\u001b[0;34m,\u001b[0m\u001b[0;34m\u001b[0m\u001b[0;34m\u001b[0m\u001b[0m\n\u001b[0m\u001b[1;32m    119\u001b[0m                 \u001b[0mheaders\u001b[0m\u001b[0;34m=\u001b[0m\u001b[0mheaders\u001b[0m\u001b[0;34m,\u001b[0m\u001b[0;34m\u001b[0m\u001b[0;34m\u001b[0m\u001b[0m\n\u001b[1;32m    120\u001b[0m                 \u001b[0mcontent\u001b[0m\u001b[0;34m=\u001b[0m\u001b[0mHTTP2ConnectionByteStream\u001b[0m\u001b[0;34m(\u001b[0m\u001b[0mself\u001b[0m\u001b[0;34m,\u001b[0m \u001b[0mrequest\u001b[0m\u001b[0;34m,\u001b[0m \u001b[0mstream_id\u001b[0m\u001b[0;34m=\u001b[0m\u001b[0mstream_id\u001b[0m\u001b[0;34m)\u001b[0m\u001b[0;34m,\u001b[0m\u001b[0;34m\u001b[0m\u001b[0;34m\u001b[0m\u001b[0m\n",
      "\u001b[0;32m~/anaconda3/lib/python3.9/site-packages/httpcore/_sync/http2.py\u001b[0m in \u001b[0;36mrequest\u001b[0;34m(self, method, url, headers, stream, timeout)\u001b[0m\n\u001b[1;32m    290\u001b[0m \u001b[0;34m\u001b[0m\u001b[0m\n\u001b[1;32m    291\u001b[0m                     \u001b[0;32mif\u001b[0m \u001b[0mevent_stream_id\u001b[0m \u001b[0;32min\u001b[0m \u001b[0mself\u001b[0m\u001b[0;34m.\u001b[0m\u001b[0m_events\u001b[0m\u001b[0;34m:\u001b[0m\u001b[0;34m\u001b[0m\u001b[0;34m\u001b[0m\u001b[0m\n\u001b[0;32m--> 292\u001b[0;31m                         \u001b[0mself\u001b[0m\u001b[0;34m.\u001b[0m\u001b[0m_events\u001b[0m\u001b[0;34m[\u001b[0m\u001b[0mevent_stream_id\u001b[0m\u001b[0;34m]\u001b[0m\u001b[0;34m.\u001b[0m\u001b[0mappend\u001b[0m\u001b[0;34m(\u001b[0m\u001b[0mevent\u001b[0m\u001b[0;34m)\u001b[0m\u001b[0;34m\u001b[0m\u001b[0;34m\u001b[0m\u001b[0m\n\u001b[0m\u001b[1;32m    293\u001b[0m \u001b[0;34m\u001b[0m\u001b[0m\n\u001b[1;32m    294\u001b[0m         \u001b[0mself\u001b[0m\u001b[0;34m.\u001b[0m\u001b[0m_write_outgoing_data\u001b[0m\u001b[0;34m(\u001b[0m\u001b[0mrequest\u001b[0m\u001b[0;34m)\u001b[0m\u001b[0;34m\u001b[0m\u001b[0;34m\u001b[0m\u001b[0m\n",
      "\u001b[0;32m~/anaconda3/lib/python3.9/site-packages/httpcore/_sync/http2.py\u001b[0m in \u001b[0;36mreceive_response\u001b[0;34m(self, timeout)\u001b[0m\n\u001b[1;32m    342\u001b[0m \u001b[0;34m\u001b[0m\u001b[0m\n\u001b[1;32m    343\u001b[0m         \u001b[0mevents\u001b[0m\u001b[0;34m:\u001b[0m \u001b[0mtyping\u001b[0m\u001b[0;34m.\u001b[0m\u001b[0mList\u001b[0m\u001b[0;34m[\u001b[0m\u001b[0mh2\u001b[0m\u001b[0;34m.\u001b[0m\u001b[0mevents\u001b[0m\u001b[0;34m.\u001b[0m\u001b[0mEvent\u001b[0m\u001b[0;34m]\u001b[0m \u001b[0;34m=\u001b[0m \u001b[0mself\u001b[0m\u001b[0;34m.\u001b[0m\u001b[0m_h2_state\u001b[0m\u001b[0;34m.\u001b[0m\u001b[0mreceive_data\u001b[0m\u001b[0;34m(\u001b[0m\u001b[0mdata\u001b[0m\u001b[0;34m)\u001b[0m\u001b[0;34m\u001b[0m\u001b[0;34m\u001b[0m\u001b[0m\n\u001b[0;32m--> 344\u001b[0;31m \u001b[0;34m\u001b[0m\u001b[0m\n\u001b[0m\u001b[1;32m    345\u001b[0m         \u001b[0;32mreturn\u001b[0m \u001b[0mevents\u001b[0m\u001b[0;34m\u001b[0m\u001b[0;34m\u001b[0m\u001b[0m\n\u001b[1;32m    346\u001b[0m \u001b[0;34m\u001b[0m\u001b[0m\n",
      "\u001b[0;32m~/anaconda3/lib/python3.9/site-packages/httpcore/_sync/http2.py\u001b[0m in \u001b[0;36mwait_for_event\u001b[0;34m(self, stream_id, timeout)\u001b[0m\n\u001b[1;32m    195\u001b[0m             \u001b[0;32mfor\u001b[0m \u001b[0mk\u001b[0m\u001b[0;34m,\u001b[0m \u001b[0mv\u001b[0m \u001b[0;32min\u001b[0m \u001b[0mrequest\u001b[0m\u001b[0;34m.\u001b[0m\u001b[0mheaders\u001b[0m\u001b[0;34m\u001b[0m\u001b[0;34m\u001b[0m\u001b[0m\n\u001b[1;32m    196\u001b[0m             \u001b[0;32mif\u001b[0m \u001b[0mk\u001b[0m\u001b[0;34m.\u001b[0m\u001b[0mlower\u001b[0m\u001b[0;34m(\u001b[0m\u001b[0;34m)\u001b[0m\u001b[0;34m\u001b[0m\u001b[0;34m\u001b[0m\u001b[0m\n\u001b[0;32m--> 197\u001b[0;31m             not in (\n\u001b[0m\u001b[1;32m    198\u001b[0m                 \u001b[0;34mb\"host\"\u001b[0m\u001b[0;34m,\u001b[0m\u001b[0;34m\u001b[0m\u001b[0;34m\u001b[0m\u001b[0m\n\u001b[1;32m    199\u001b[0m                 \u001b[0;34mb\"transfer-encoding\"\u001b[0m\u001b[0;34m,\u001b[0m\u001b[0;34m\u001b[0m\u001b[0;34m\u001b[0m\u001b[0m\n",
      "\u001b[0;32m~/anaconda3/lib/python3.9/site-packages/httpcore/_sync/http2.py\u001b[0m in \u001b[0;36mreceive_events\u001b[0;34m(self, timeout)\u001b[0m\n\u001b[1;32m    202\u001b[0m \u001b[0;34m\u001b[0m\u001b[0m\n\u001b[1;32m    203\u001b[0m         \u001b[0mself\u001b[0m\u001b[0;34m.\u001b[0m\u001b[0m_h2_state\u001b[0m\u001b[0;34m.\u001b[0m\u001b[0msend_headers\u001b[0m\u001b[0;34m(\u001b[0m\u001b[0mstream_id\u001b[0m\u001b[0;34m,\u001b[0m \u001b[0mheaders\u001b[0m\u001b[0;34m,\u001b[0m \u001b[0mend_stream\u001b[0m\u001b[0;34m=\u001b[0m\u001b[0mend_stream\u001b[0m\u001b[0;34m)\u001b[0m\u001b[0;34m\u001b[0m\u001b[0;34m\u001b[0m\u001b[0m\n\u001b[0;32m--> 204\u001b[0;31m         \u001b[0mself\u001b[0m\u001b[0;34m.\u001b[0m\u001b[0m_h2_state\u001b[0m\u001b[0;34m.\u001b[0m\u001b[0mincrement_flow_control_window\u001b[0m\u001b[0;34m(\u001b[0m\u001b[0;36m2\u001b[0m\u001b[0;34m**\u001b[0m\u001b[0;36m24\u001b[0m\u001b[0;34m,\u001b[0m \u001b[0mstream_id\u001b[0m\u001b[0;34m=\u001b[0m\u001b[0mstream_id\u001b[0m\u001b[0;34m)\u001b[0m\u001b[0;34m\u001b[0m\u001b[0;34m\u001b[0m\u001b[0m\n\u001b[0m\u001b[1;32m    205\u001b[0m         \u001b[0mself\u001b[0m\u001b[0;34m.\u001b[0m\u001b[0m_write_outgoing_data\u001b[0m\u001b[0;34m(\u001b[0m\u001b[0mrequest\u001b[0m\u001b[0;34m)\u001b[0m\u001b[0;34m\u001b[0m\u001b[0;34m\u001b[0m\u001b[0m\n\u001b[1;32m    206\u001b[0m \u001b[0;34m\u001b[0m\u001b[0m\n",
      "\u001b[0;32m~/anaconda3/lib/python3.9/site-packages/httpcore/_backends/sync.py\u001b[0m in \u001b[0;36mread\u001b[0;34m(self, n, timeout)\u001b[0m\n",
      "\u001b[0;32m~/anaconda3/lib/python3.9/contextlib.py\u001b[0m in \u001b[0;36m__exit__\u001b[0;34m(self, typ, value, traceback)\u001b[0m\n\u001b[1;32m    135\u001b[0m                 \u001b[0mvalue\u001b[0m \u001b[0;34m=\u001b[0m \u001b[0mtyp\u001b[0m\u001b[0;34m(\u001b[0m\u001b[0;34m)\u001b[0m\u001b[0;34m\u001b[0m\u001b[0;34m\u001b[0m\u001b[0m\n\u001b[1;32m    136\u001b[0m             \u001b[0;32mtry\u001b[0m\u001b[0;34m:\u001b[0m\u001b[0;34m\u001b[0m\u001b[0;34m\u001b[0m\u001b[0m\n\u001b[0;32m--> 137\u001b[0;31m                 \u001b[0mself\u001b[0m\u001b[0;34m.\u001b[0m\u001b[0mgen\u001b[0m\u001b[0;34m.\u001b[0m\u001b[0mthrow\u001b[0m\u001b[0;34m(\u001b[0m\u001b[0mtyp\u001b[0m\u001b[0;34m,\u001b[0m \u001b[0mvalue\u001b[0m\u001b[0;34m,\u001b[0m \u001b[0mtraceback\u001b[0m\u001b[0;34m)\u001b[0m\u001b[0;34m\u001b[0m\u001b[0;34m\u001b[0m\u001b[0m\n\u001b[0m\u001b[1;32m    138\u001b[0m             \u001b[0;32mexcept\u001b[0m \u001b[0mStopIteration\u001b[0m \u001b[0;32mas\u001b[0m \u001b[0mexc\u001b[0m\u001b[0;34m:\u001b[0m\u001b[0;34m\u001b[0m\u001b[0;34m\u001b[0m\u001b[0m\n\u001b[1;32m    139\u001b[0m                 \u001b[0;31m# Suppress StopIteration *unless* it's the same exception that\u001b[0m\u001b[0;34m\u001b[0m\u001b[0;34m\u001b[0m\u001b[0m\n",
      "\u001b[0;32m~/anaconda3/lib/python3.9/site-packages/httpcore/_exceptions.py\u001b[0m in \u001b[0;36mmap_exceptions\u001b[0;34m(map)\u001b[0m\n\u001b[1;32m     10\u001b[0m         \u001b[0;32myield\u001b[0m\u001b[0;34m\u001b[0m\u001b[0;34m\u001b[0m\u001b[0m\n\u001b[1;32m     11\u001b[0m     \u001b[0;32mexcept\u001b[0m \u001b[0mException\u001b[0m \u001b[0;32mas\u001b[0m \u001b[0mexc\u001b[0m\u001b[0;34m:\u001b[0m  \u001b[0;31m# noqa: PIE786\u001b[0m\u001b[0;34m\u001b[0m\u001b[0;34m\u001b[0m\u001b[0m\n\u001b[0;32m---> 12\u001b[0;31m         \u001b[0;32mfor\u001b[0m \u001b[0mfrom_exc\u001b[0m\u001b[0;34m,\u001b[0m \u001b[0mto_exc\u001b[0m \u001b[0;32min\u001b[0m \u001b[0mmap\u001b[0m\u001b[0;34m.\u001b[0m\u001b[0mitems\u001b[0m\u001b[0;34m(\u001b[0m\u001b[0;34m)\u001b[0m\u001b[0;34m:\u001b[0m\u001b[0;34m\u001b[0m\u001b[0;34m\u001b[0m\u001b[0m\n\u001b[0m\u001b[1;32m     13\u001b[0m             \u001b[0;32mif\u001b[0m \u001b[0misinstance\u001b[0m\u001b[0;34m(\u001b[0m\u001b[0mexc\u001b[0m\u001b[0;34m,\u001b[0m \u001b[0mfrom_exc\u001b[0m\u001b[0;34m)\u001b[0m\u001b[0;34m:\u001b[0m\u001b[0;34m\u001b[0m\u001b[0;34m\u001b[0m\u001b[0m\n\u001b[1;32m     14\u001b[0m                 \u001b[0;32mraise\u001b[0m \u001b[0mto_exc\u001b[0m\u001b[0;34m(\u001b[0m\u001b[0mexc\u001b[0m\u001b[0;34m)\u001b[0m\u001b[0;34m\u001b[0m\u001b[0;34m\u001b[0m\u001b[0m\n",
      "\u001b[0;31mReadTimeout\u001b[0m: The read operation timed out"
     ]
    },
    {
     "name": "stderr",
     "output_type": "stream",
     "text": [
      "%4|1683383627.785|MAXPOLL|rdkafka#consumer-4| [thrd:main]: Application maximum poll interval (300000ms) exceeded by 236ms (adjust max.poll.interval.ms for long-running message processing): leaving group\n"
     ]
    }
   ],
   "source": [
    "from confluent_kafka import Consumer\n",
    "\n",
    "conf = {'bootstrap.servers': 'localhost:9092',\n",
    "        'group.id': \"translate\",\n",
    "        'auto.offset.reset': 'earliest'}\n",
    "\n",
    "consumer = Consumer(conf)\n",
    "consumer.subscribe([\"english_only_data\"])\n",
    "\n",
    "from confluent_kafka import KafkaError, KafkaException\n",
    "\n",
    "while True:\n",
    "    msg = consumer.poll(timeout=1.0)\n",
    "\n",
    "    if msg is None or msg.error():\n",
    "        if msg and msg.error().code() != KafkaError._PARTITION_EOF:\n",
    "            raise KafkaException(msg.error())\n",
    "        break\n",
    "    \n",
    "    translate_and_produce(msg.value())"
   ]
  },
  {
   "cell_type": "code",
   "execution_count": null,
   "metadata": {},
   "outputs": [],
   "source": []
  },
  {
   "cell_type": "code",
   "execution_count": null,
   "metadata": {},
   "outputs": [],
   "source": []
  },
  {
   "attachments": {},
   "cell_type": "markdown",
   "metadata": {},
   "source": [
    "# Score Translation"
   ]
  },
  {
   "cell_type": "code",
   "execution_count": null,
   "metadata": {},
   "outputs": [],
   "source": [
    "!pip install sentence-transformers"
   ]
  },
  {
   "cell_type": "code",
   "execution_count": 9,
   "metadata": {},
   "outputs": [],
   "source": [
    "from sentence_transformers import SentenceTransformer\n",
    "from numpy import dot\n",
    "from numpy.linalg import norm\n",
    "\n",
    "translation_scoring_model = SentenceTransformer('sentence-transformers/distiluse-base-multilingual-cased-v2')\n",
    "\n",
    "def calculate_sentence_similarity(sent1, sent2):\n",
    "    \"\"\"\n",
    "    Returns cosine similarity of embeddings of to given sentences.\n",
    "    \"\"\"\n",
    "    emb1, emb2 = translation_scoring_model.encode([sent1, sent2])\n",
    "    cos_sim = dot(emb1, emb2) / (norm(emb1) * norm(emb2))\n",
    "    return cos_sim"
   ]
  },
  {
   "cell_type": "code",
   "execution_count": 72,
   "metadata": {},
   "outputs": [],
   "source": [
    "def validate_translation_and_produce(msg_value):\n",
    "    data = json.loads(msg_value)\n",
    "    \n",
    "    score = calculate_sentence_similarity(data[\"english_sentence\"], data[\"farsi_sentence\"])\n",
    "    if score >= 0.7:\n",
    "        data[\"translation_score\"] = str(score)\n",
    "        producer.produce(topic=\"validated_translation_data\", value=json.dumps(data))"
   ]
  },
  {
   "cell_type": "code",
   "execution_count": 10,
   "metadata": {},
   "outputs": [
    {
     "data": {
      "text/plain": [
       "0.8394125"
      ]
     },
     "execution_count": 10,
     "metadata": {},
     "output_type": "execute_result"
    }
   ],
   "source": [
    "calculate_sentence_similarity(\n",
    "    \"The weather is great here!\",\n",
    "    \"هوا اینجا عالیه!\",\n",
    ")"
   ]
  },
  {
   "cell_type": "code",
   "execution_count": 13,
   "metadata": {},
   "outputs": [
    {
     "data": {
      "text/plain": [
       "0.3100414"
      ]
     },
     "execution_count": 13,
     "metadata": {},
     "output_type": "execute_result"
    }
   ],
   "source": [
    "calculate_sentence_similarity(\n",
    "    \"The weather is great here!\",\n",
    "    \"سلام خوبی!\",\n",
    ")"
   ]
  },
  {
   "cell_type": "code",
   "execution_count": 76,
   "metadata": {},
   "outputs": [],
   "source": [
    "from confluent_kafka import Consumer\n",
    "\n",
    "conf = {'bootstrap.servers': 'localhost:9092',\n",
    "        'group.id': \"validate_translation\",\n",
    "        'auto.offset.reset': 'earliest'}\n",
    "\n",
    "consumer = Consumer(conf)\n",
    "consumer.subscribe([\"translated_data\"])\n",
    "\n",
    "from confluent_kafka import KafkaError, KafkaException\n",
    "\n",
    "while True:\n",
    "    msg = consumer.poll(timeout=1.0)\n",
    "\n",
    "    if msg is None or msg.error():\n",
    "        if msg and msg.error().code() != KafkaError._PARTITION_EOF:\n",
    "            raise KafkaException(msg.error())\n",
    "        break\n",
    "\n",
    "    validate_translation_and_produce(msg.value())"
   ]
  },
  {
   "cell_type": "code",
   "execution_count": null,
   "metadata": {},
   "outputs": [],
   "source": []
  },
  {
   "attachments": {},
   "cell_type": "markdown",
   "metadata": {},
   "source": [
    "# Aggregate & Save"
   ]
  },
  {
   "cell_type": "code",
   "execution_count": 2,
   "metadata": {},
   "outputs": [],
   "source": [
    "import json\n",
    "\n",
    "from confluent_kafka import Consumer\n",
    "import time\n",
    "\n",
    "conf = {'bootstrap.servers': 'localhost:9092',\n",
    "        'group.id': f\"save_data_{int(time.time())}\",\n",
    "        'auto.offset.reset': 'earliest'}\n",
    "\n",
    "consumer = Consumer(conf)\n",
    "consumer.subscribe([\"validated_translation_data\"])\n",
    "\n",
    "from confluent_kafka import KafkaError, KafkaException\n",
    "\n",
    "data = []\n",
    "while True:\n",
    "    msg = consumer.poll(timeout=1.0)\n",
    "\n",
    "    if msg is None or msg.error():\n",
    "        if msg and msg.error().code() != KafkaError._PARTITION_EOF:\n",
    "            raise KafkaException(msg.error())\n",
    "        break\n",
    "\n",
    "    data.append(json.loads(msg.value()))"
   ]
  },
  {
   "cell_type": "code",
   "execution_count": 8,
   "metadata": {},
   "outputs": [],
   "source": [
    "import pandas as pd\n",
    "\n",
    "df = pd.DataFrame.from_dict(data)"
   ]
  },
  {
   "cell_type": "code",
   "execution_count": 9,
   "metadata": {},
   "outputs": [
    {
     "data": {
      "text/html": [
       "<div>\n",
       "<style scoped>\n",
       "    .dataframe tbody tr th:only-of-type {\n",
       "        vertical-align: middle;\n",
       "    }\n",
       "\n",
       "    .dataframe tbody tr th {\n",
       "        vertical-align: top;\n",
       "    }\n",
       "\n",
       "    .dataframe thead th {\n",
       "        text-align: right;\n",
       "    }\n",
       "</style>\n",
       "<table border=\"1\" class=\"dataframe\">\n",
       "  <thead>\n",
       "    <tr style=\"text-align: right;\">\n",
       "      <th></th>\n",
       "      <th>dataset</th>\n",
       "      <th>image_id</th>\n",
       "      <th>english_sentence</th>\n",
       "      <th>farsi_sentence</th>\n",
       "      <th>translation_score</th>\n",
       "    </tr>\n",
       "  </thead>\n",
       "  <tbody>\n",
       "    <tr>\n",
       "      <th>0</th>\n",
       "      <td>flickr30k</td>\n",
       "      <td>1000092795.jpg</td>\n",
       "      <td>Two young , White males are outside near many ...</td>\n",
       "      <td>دو نر جوان سفید پوست بیرون در نزدیکی بسیاری از...</td>\n",
       "      <td>0.8116357</td>\n",
       "    </tr>\n",
       "    <tr>\n",
       "      <th>1</th>\n",
       "      <td>flickr30k</td>\n",
       "      <td>1000092795.jpg</td>\n",
       "      <td>Two men in green shirts are standing in a yard .</td>\n",
       "      <td>دو مرد با پیراهن سبز در حیاط ایستاده اند.</td>\n",
       "      <td>0.7840364</td>\n",
       "    </tr>\n",
       "    <tr>\n",
       "      <th>2</th>\n",
       "      <td>flickr30k</td>\n",
       "      <td>1000092795.jpg</td>\n",
       "      <td>A man in a blue shirt standing in a garden .</td>\n",
       "      <td>مردی با پیراهن آبی در باغ ایستاده است.</td>\n",
       "      <td>0.90311915</td>\n",
       "    </tr>\n",
       "    <tr>\n",
       "      <th>3</th>\n",
       "      <td>flickr30k</td>\n",
       "      <td>1000092795.jpg</td>\n",
       "      <td>Two friends enjoy time spent together .</td>\n",
       "      <td>دو دوست از زمان با هم بودن لذت می برند.</td>\n",
       "      <td>0.90404236</td>\n",
       "    </tr>\n",
       "    <tr>\n",
       "      <th>4</th>\n",
       "      <td>flickr30k</td>\n",
       "      <td>10002456.jpg</td>\n",
       "      <td>Several men in hard hats are operating a giant...</td>\n",
       "      <td>چند مرد با کلاه سخت در حال کار با یک سیستم قرق...</td>\n",
       "      <td>0.90194845</td>\n",
       "    </tr>\n",
       "  </tbody>\n",
       "</table>\n",
       "</div>"
      ],
      "text/plain": [
       "     dataset  ... translation_score\n",
       "0  flickr30k  ...         0.8116357\n",
       "1  flickr30k  ...         0.7840364\n",
       "2  flickr30k  ...        0.90311915\n",
       "3  flickr30k  ...        0.90404236\n",
       "4  flickr30k  ...        0.90194845\n",
       "\n",
       "[5 rows x 5 columns]"
      ]
     },
     "execution_count": 9,
     "metadata": {},
     "output_type": "execute_result"
    }
   ],
   "source": [
    "df.head()"
   ]
  },
  {
   "cell_type": "code",
   "execution_count": null,
   "metadata": {},
   "outputs": [],
   "source": [
    "df.to_csv(\"/home/divar/university/MLOps/Project/data/cleaned_flickr30k.csv\")"
   ]
  },
  {
   "cell_type": "code",
   "execution_count": null,
   "metadata": {},
   "outputs": [],
   "source": []
  },
  {
   "cell_type": "code",
   "execution_count": null,
   "metadata": {},
   "outputs": [],
   "source": []
  },
  {
   "attachments": {},
   "cell_type": "markdown",
   "metadata": {},
   "source": [
    "# Crawl Divar"
   ]
  },
  {
   "cell_type": "code",
   "execution_count": 15,
   "metadata": {},
   "outputs": [],
   "source": [
    "import requests\n",
    "\n",
    "response = requests.get(\"https://api.divar.ir/v8/posts/wY9VsSUG\", timeout=5)\n",
    "post_data = response.json()"
   ]
  },
  {
   "cell_type": "code",
   "execution_count": 23,
   "metadata": {},
   "outputs": [
    {
     "name": "stdout",
     "output_type": "stream",
     "text": [
      "{\n",
      "    \"data\": {\n",
      "        \"nabz_product_id\": null,\n",
      "        \"business_card_slug\": null,\n",
      "        \"seo\": {\n",
      "            \"title\": \"لپ تاپ قدرتمند hp با رم ۱۲ گیگ|رایانه همراه|ارومیه|دیوار\",\n",
      "            \"description\": \"لپ تاپ قدرتمند hp با رم ۱۲ گیگ|رایانه همراه|ارومیه|خرید و فروش ✅دستگاه شامل گارانتی رایگان(مهلت تست) و فاکتور رسمی میباشد\\n✅تضمین قیمت و کیفیت در سراسر استان\\n✅امکان فروش اقساطی(تا ۳ ماه) بدون سود و بهره *فقط کافیست دسته چک تونو بردارین و بیایین فروشگاه*\\n✅یک ماه خدمات پس از فروش (بدون چون و چرا)\\n________________________\\nلپ تاپ قوی hp\\n⬅️cpu : core i5 3310m\\n⬅️ram: 12 GB\\n⬅️hard: 320 GB\\n⬅️vga :4 GB intel\\n⬅️دارای HDMIو وبکم و usb3\\n⬅️فول پورت و نگهداری باتری بسیار فوق العاده\\n⬅️تمیز در حد صفر\\n⬅️از این ارزان تر با این امکانات نداریم\\n⬅️هدیه : کیف به خریدار محترم\\n_________________________\\nمشاوره رایگان\\nتخفیف ویژه برای خرید نقدی\\n در فروشگاه ما آداپتور.باتری.led.dvd با قیمت های بسیار مناسب به فروش میرسد\\nارسال سریع به سراسر ایران\\nآدرس جهت خرید حضوری:\\nارومیه،خیابان امام ،پاساژ فیلیپس،طبقه منفی ۲، فروشگاه پایتخت لپ تاپ| سایت ثبت آگهی، نیازمندی و خرید و فروش دیوار\",\n",
      "            \"url\": \"https://divar.ir/v/%D9%84%D9%BE-%D8%AA%D8%A7%D9%BE-%D9%82%D8%AF%D8%B1%D8%AA%D9%85%D9%86%D8%AF-hp-%D8%A8%D8%A7-%D8%B1%D9%85-%DB%B1%DB%B2-%DA%AF%DB%8C%DA%AF_رایانه-همراه_ارومیه__دیوار/wY9VsSUG\",\n",
      "            \"home_url\": \"https://divar.ir/urmia/ارومیه/browse\",\n",
      "            \"android_package_name\": \"ir.divar\",\n",
      "            \"ios_app_id\": \"863029557\",\n",
      "            \"android_app_url\": \"android-app://ir.divar/http/v/لپ تاپ قدرتمند hp با رم ۱۲ گیگ/wY9VsSUG/\",\n",
      "            \"ios_app_url\": \"ios-app://863029557/http/v/لپ تاپ قدرتمند hp با رم ۱۲ گیگ/wY9VsSUG/\",\n",
      "            \"thumbnail\": \"https://s100.divarcdn.com/static/thumbnails/1675863954/wY9VsSUG.jpg\"\n",
      "        },\n",
      "        \"share\": {\n",
      "            \"title\": \"لپ تاپ قدرتمند hp با رم ۱۲ گیگ\",\n",
      "            \"description\": \"✅دستگاه شامل گارانتی رایگان(مهلت تست) و فاکتور رسمی میباشد\\n✅تضمین قیمت و کیفیت در سراسر استان\\n✅امکان فروش اقساطی(تا ۳ ماه) بدون سود و بهره *فقط کافیست دسته چک تونو بردارین و بیایین فروشگاه*\\n✅یک ماه خدمات پس از فروش (بدون چون و چرا)\\n________________________\\nلپ تاپ قوی hp\\n⬅️cpu : core i5 3310m\\n⬅️ram: 12 GB\\n⬅️hard: 320 GB\\n⬅️vga :4 GB intel\\n⬅️دارای HDMIو وبکم و usb3\\n⬅️فول پورت و نگهداری باتری بسیار فوق العاده\\n⬅️تمیز در حد صفر\\n⬅️از این ارزان تر با این امکانات نداریم\\n⬅️هدیه : کیف به خریدار محترم\\n_________________________\\nمشاوره رایگان\\nتخفیف ویژه برای خرید نقدی\\n در فروشگاه ما آداپتور.باتری.led.dvd با قیمت های بسیار مناسب به فروش میرسد\\nارسال سریع به سراسر ایران\\nآدرس جهت خرید حضوری:\\nارومیه،خیابان امام ،پاساژ فیلیپس،طبقه منفی ۲، فروشگاه پایتخت لپ تاپ\",\n",
      "            \"android_url\": \"https://divar.ir/v/wY9VsSUG?ref=android\",\n",
      "            \"ios_url\": \"https://divar.ir/v/wY9VsSUG?ref=ios\",\n",
      "            \"web_url\": \"https://divar.ir/v/wY9VsSUG\"\n",
      "        },\n",
      "        \"url\": \"https://divar.ir/v/%D9%84%D9%BE-%D8%AA%D8%A7%D9%BE-%D9%82%D8%AF%D8%B1%D8%AA%D9%85%D9%86%D8%AF-hp-%D8%A8%D8%A7-%D8%B1%D9%85-%DB%B1%DB%B2-%DA%AF%DB%8C%DA%AF_رایانه-همراه_ارومیه__دیوار/wY9VsSUG\",\n",
      "        \"category\": {\n",
      "            \"slug\": \"laptops\",\n",
      "            \"title\": \"رایانه همراه\",\n",
      "            \"second_slug\": \"رایانه همراه\"\n",
      "        },\n",
      "        \"description\": \"✅دستگاه شامل گارانتی رایگان(مهلت تست) و فاکتور رسمی میباشد\\n✅تضمین قیمت و کیفیت در سراسر استان\\n✅امکان فروش اقساطی(تا ۳ ماه) بدون سود و بهره *فقط کافیست دسته چک تونو بردارین و بیایین فروشگاه*\\n✅یک ماه خدمات پس از فروش (بدون چون و چرا)\\n________________________\\nلپ تاپ قوی hp\\n⬅️cpu : core i5 3310m\\n⬅️ram: 12 GB\\n⬅️hard: 320 GB\\n⬅️vga :4 GB intel\\n⬅️دارای HDMIو وبکم و usb3\\n⬅️فول پورت و نگهداری باتری بسیار فوق العاده\\n⬅️تمیز در حد صفر\\n⬅️از این ارزان تر با این امکانات نداریم\\n⬅️هدیه : کیف به خریدار محترم\\n_________________________\\nمشاوره رایگان\\nتخفیف ویژه برای خرید نقدی\\n در فروشگاه ما آداپتور.باتری.led.dvd با قیمت های بسیار مناسب به فروش میرسد\\nارسال سریع به سراسر ایران\\nآدرس جهت خرید حضوری:\\nارومیه،خیابان امام ،پاساژ فیلیپس،طبقه منفی ۲، فروشگاه پایتخت لپ تاپ\",\n",
      "        \"business_data\": {\n",
      "            \"business_type\": \"marketplace\",\n",
      "            \"business_ref\": null,\n",
      "            \"data\": {\n",
      "                \"name\": \"پایتخت لپ تاپ\",\n",
      "                \"token\": \"nanotak\",\n",
      "                \"source\": \"I\",\n",
      "                \"address\": \"استان آذربایجان غربی،شهر ارومیه،خیابان امام،مجتمع تجاری فیلیپس،طبقه منفی 2،پلاک 13،فروشگاه پایتخت لپ تاپ\",\n",
      "                \"location\": {\n",
      "                    \"city\": 10,\n",
      "                    \"point\": {\n",
      "                        \"latitude\": 37.54786,\n",
      "                        \"longitude\": 45.06919\n",
      "                    }\n",
      "                },\n",
      "                \"logoImage\": \"https://s100.divarcdn.com/static/images/marketplace/WyUKTYab6rlLJL7HA9C_vQ.jpg\",\n",
      "                \"shipmentInfo\": [\n",
      "                    \"HAS_LOCAL_SHIPMENT\",\n",
      "                    \"HAS_LOCAL_CASH_ON_DELIVERY\",\n",
      "                    \"HAS_SHIPMENT_TO_OTHER_CITIES\",\n",
      "                    \"HAS_CASH_ON_DELIVERY_IN_OTHER_CITIES\"\n",
      "                ],\n",
      "                \"storeOwnerPhone\": \"09045521502\"\n",
      "            }\n",
      "        },\n",
      "        \"city\": \"ارومیه\",\n",
      "        \"webengage\": {\n",
      "            \"category\": \"laptops\",\n",
      "            \"token\": \"wY9VsSUG\",\n",
      "            \"city\": \"urmia\",\n",
      "            \"brand_model\": null,\n",
      "            \"business_type\": \"marketplace\",\n",
      "            \"business_ref\": null,\n",
      "            \"data\": {\n",
      "                \"name\": \"پایتخت لپ تاپ\",\n",
      "                \"token\": \"nanotak\",\n",
      "                \"source\": \"I\",\n",
      "                \"address\": \"استان آذربایجان غربی،شهر ارومیه،خیابان امام،مجتمع تجاری فیلیپس،طبقه منفی 2،پلاک 13،فروشگاه پایتخت لپ تاپ\",\n",
      "                \"location\": {\n",
      "                    \"city\": 10,\n",
      "                    \"point\": {\n",
      "                        \"latitude\": 37.54786,\n",
      "                        \"longitude\": 45.06919\n",
      "                    }\n",
      "                },\n",
      "                \"logoImage\": \"https://s100.divarcdn.com/static/images/marketplace/WyUKTYab6rlLJL7HA9C_vQ.jpg\",\n",
      "                \"shipmentInfo\": [\n",
      "                    \"HAS_LOCAL_SHIPMENT\",\n",
      "                    \"HAS_LOCAL_CASH_ON_DELIVERY\",\n",
      "                    \"HAS_SHIPMENT_TO_OTHER_CITIES\",\n",
      "                    \"HAS_CASH_ON_DELIVERY_IN_OTHER_CITIES\"\n",
      "                ],\n",
      "                \"storeOwnerPhone\": \"09045521502\"\n",
      "            },\n",
      "            \"price\": 8300000,\n",
      "            \"rent\": null,\n",
      "            \"credit\": null\n",
      "        },\n",
      "        \"district\": \"\",\n",
      "        \"brand_model\": null\n",
      "    },\n",
      "    \"widgets\": {\n",
      "        \"header\": {\n",
      "            \"date\": \"۲۳ هفته پیش\",\n",
      "            \"subtitle\": \"۲۳ هفته پیش در ارومیه | رایانه همراه\",\n",
      "            \"title\": \"لپ تاپ قدرتمند hp با رم ۱۲ گیگ\",\n",
      "            \"thumbnail\": \"https://s100.divarcdn.com/static/thumbnails/1675863954/wY9VsSUG.jpg\",\n",
      "            \"place\": \"ارومیه\",\n",
      "            \"business_logo\": null\n",
      "        },\n",
      "        \"description\": \"✅دستگاه شامل گارانتی رایگان(مهلت تست) و فاکتور رسمی میباشد\\n✅تضمین قیمت و کیفیت در سراسر استان\\n✅امکان فروش اقساطی(تا ۳ ماه) بدون سود و بهره *فقط کافیست دسته چک تونو بردارین و بیایین فروشگاه*\\n✅یک ماه خدمات پس از فروش (بدون چون و چرا)\\n________________________\\nلپ تاپ قوی hp\\n⬅️cpu : core i5 3310m\\n⬅️ram: 12 GB\\n⬅️hard: 320 GB\\n⬅️vga :4 GB intel\\n⬅️دارای HDMIو وبکم و usb3\\n⬅️فول پورت و نگهداری باتری بسیار فوق العاده\\n⬅️تمیز در حد صفر\\n⬅️از این ارزان تر با این امکانات نداریم\\n⬅️هدیه : کیف به خریدار محترم\\n_________________________\\nمشاوره رایگان\\nتخفیف ویژه برای خرید نقدی\\n در فروشگاه ما آداپتور.باتری.led.dvd با قیمت های بسیار مناسب به فروش میرسد\\nارسال سریع به سراسر ایران\\nآدرس جهت خرید حضوری:\\nارومیه،خیابان امام ،پاساژ فیلیپس،طبقه منفی ۲، فروشگاه پایتخت لپ تاپ\",\n",
      "        \"description_show_lines\": 0,\n",
      "        \"list_data\": [\n",
      "            {\n",
      "                \"title\": \"برند\",\n",
      "                \"format\": \"string\",\n",
      "                \"value\": \"HP - اچ‌پی\"\n",
      "            },\n",
      "            {\n",
      "                \"title\": \"وضعیت\",\n",
      "                \"format\": \"string\",\n",
      "                \"value\": \"نو\"\n",
      "            },\n",
      "            {\n",
      "                \"title\": \"مقدار رم\",\n",
      "                \"format\": \"string\",\n",
      "                \"value\": \"۱۲ گیگابایت\"\n",
      "            },\n",
      "            {\n",
      "                \"title\": \"پردازنده\",\n",
      "                \"format\": \"string\",\n",
      "                \"value\": \"Core i۵\"\n",
      "            },\n",
      "            {\n",
      "                \"title\": \"قیمت\",\n",
      "                \"format\": \"string\",\n",
      "                \"value\": \"۸٬۳۰۰٬۰۰۰ تومان\"\n",
      "            },\n",
      "            {\n",
      "                \"title\": \"آخرین به‌روزرسانی آگهی\",\n",
      "                \"format\": \"string\",\n",
      "                \"value\": \"۱۲ هفته پیش\"\n",
      "            }\n",
      "        ],\n",
      "        \"location\": {\n",
      "            \"latitude\": \"37.54786\",\n",
      "            \"longitude\": \"45.06919\",\n",
      "            \"map_url\": \"https://cdn.raah.ir/divar-images-2/wY9VsSUG.png\"\n",
      "        },\n",
      "        \"images\": [\n",
      "            \"https://s100.divarcdn.com/static/pictures/1675863954/wY9VsSUG.webp\",\n",
      "            \"https://s100.divarcdn.com/static/pictures/1675863954/wY9VsSUG.1.webp\",\n",
      "            \"https://s100.divarcdn.com/static/pictures/1675863954/wY9VsSUG.2.webp\",\n",
      "            \"https://s100.divarcdn.com/static/pictures/1675863954/wY9VsSUG.3.webp\",\n",
      "            \"https://s100.divarcdn.com/static/pictures/1675863954/wY9VsSUG.4.webp\"\n",
      "        ],\n",
      "        \"web_images\": [\n",
      "            [\n",
      "                {\n",
      "                    \"src\": \"https://s100.divarcdn.com/static/pictures/1675863954/wY9VsSUG.webp\",\n",
      "                    \"type\": \"image/webp\"\n",
      "                },\n",
      "                {\n",
      "                    \"src\": \"https://s100.divarcdn.com/static/pictures/1675863954/wY9VsSUG.jpg\",\n",
      "                    \"type\": \"image/jpeg\"\n",
      "                }\n",
      "            ],\n",
      "            [\n",
      "                {\n",
      "                    \"src\": \"https://s100.divarcdn.com/static/pictures/1675863954/wY9VsSUG.1.webp\",\n",
      "                    \"type\": \"image/webp\"\n",
      "                },\n",
      "                {\n",
      "                    \"src\": \"https://s100.divarcdn.com/static/pictures/1675863954/wY9VsSUG.1.jpg\",\n",
      "                    \"type\": \"image/jpeg\"\n",
      "                }\n",
      "            ],\n",
      "            [\n",
      "                {\n",
      "                    \"src\": \"https://s100.divarcdn.com/static/pictures/1675863954/wY9VsSUG.2.webp\",\n",
      "                    \"type\": \"image/webp\"\n",
      "                },\n",
      "                {\n",
      "                    \"src\": \"https://s100.divarcdn.com/static/pictures/1675863954/wY9VsSUG.2.jpg\",\n",
      "                    \"type\": \"image/jpeg\"\n",
      "                }\n",
      "            ],\n",
      "            [\n",
      "                {\n",
      "                    \"src\": \"https://s100.divarcdn.com/static/pictures/1675863954/wY9VsSUG.3.webp\",\n",
      "                    \"type\": \"image/webp\"\n",
      "                },\n",
      "                {\n",
      "                    \"src\": \"https://s100.divarcdn.com/static/pictures/1675863954/wY9VsSUG.3.jpg\",\n",
      "                    \"type\": \"image/jpeg\"\n",
      "                }\n",
      "            ],\n",
      "            [\n",
      "                {\n",
      "                    \"src\": \"https://s100.divarcdn.com/static/pictures/1675863954/wY9VsSUG.4.webp\",\n",
      "                    \"type\": \"image/webp\"\n",
      "                },\n",
      "                {\n",
      "                    \"src\": \"https://s100.divarcdn.com/static/pictures/1675863954/wY9VsSUG.4.jpg\",\n",
      "                    \"type\": \"image/jpeg\"\n",
      "                }\n",
      "            ]\n",
      "        ],\n",
      "        \"breadcrumb\": {\n",
      "            \"categories\": [\n",
      "                {\n",
      "                    \"icon_url\": null,\n",
      "                    \"old_meta_id\": 26,\n",
      "                    \"parent_slug\": \"computers\",\n",
      "                    \"slug\": \"laptops\",\n",
      "                    \"title\": \"رایانه همراه\",\n",
      "                    \"second_slug\": \"رایانه همراه\",\n",
      "                    \"relative_url\": \"urmia/laptop-notebook-macbook\"\n",
      "                },\n",
      "                {\n",
      "                    \"icon_url\": \"\",\n",
      "                    \"old_meta_id\": 24,\n",
      "                    \"parent_slug\": \"electronic-devices\",\n",
      "                    \"slug\": \"computers\",\n",
      "                    \"title\": \"رایانه\",\n",
      "                    \"second_slug\": \"رایانه\",\n",
      "                    \"relative_url\": \"urmia/computers\"\n",
      "                },\n",
      "                {\n",
      "                    \"icon_url\": \"https://s100.divarcdn.com/static/explorers/categories/electronic-devices_%s.png\",\n",
      "                    \"old_meta_id\": 1,\n",
      "                    \"parent_slug\": \"root\",\n",
      "                    \"slug\": \"electronic-devices\",\n",
      "                    \"title\": \"کالای دیجیتال\",\n",
      "                    \"second_slug\": \"کالای دیجیتال\",\n",
      "                    \"relative_url\": \"urmia/electronic-devices\"\n",
      "                },\n",
      "                {\n",
      "                    \"icon_url\": null,\n",
      "                    \"old_meta_id\": 0,\n",
      "                    \"parent_slug\": null,\n",
      "                    \"slug\": \"root\",\n",
      "                    \"title\": \"همه آگهی ها\",\n",
      "                    \"second_slug\": \"همه آگهی ها\",\n",
      "                    \"relative_url\": \"urmia\"\n",
      "                }\n",
      "            ],\n",
      "            \"main_url\": \"رایانه/کالای-دیجیتال/رایانه-همراه/\",\n",
      "            \"base_url\": \"https://divar.ir/urmia/ارومیه/browse\"\n",
      "        },\n",
      "        \"contact\": {\n",
      "            \"phone\": \"0904552xxxx\",\n",
      "            \"ab_mode\": 2,\n",
      "            \"chat\": true\n",
      "        },\n",
      "        \"links\": [\n",
      "            {\n",
      "                \"title\": \"رایانه همراه\",\n",
      "                \"url\": \"https://divar.ir/urmia/ارومیه/browse/?query=0,رایانه-همراه\",\n",
      "                \"relative_url\": \"urmia/laptop-notebook-macbook\"\n",
      "            }\n",
      "        ],\n",
      "        \"messages\": [],\n",
      "        \"warnings\": [\n",
      "            {\n",
      "                \"title\": \"راهنمای خرید امن\",\n",
      "                \"link\": \"https://divar.ir/__safety_notice/\"\n",
      "            }\n",
      "        ],\n",
      "        \"car_inspection\": null,\n",
      "        \"tags\": [\n",
      "            {\n",
      "                \"text\": \"عضو دیوارِ فروشگاه‌ها\",\n",
      "                \"image_url\": \"https://s100.divarcdn.com/static/imgs/widget-icons/light/success_secondary/verified.png\",\n",
      "                \"image_color\": \"SUCCESS_SECONDARY\",\n",
      "                \"icon\": {\n",
      "                    \"image_url_dark\": \"https://s100.divarcdn.com/static/imgs/widget-icons/dark/success_secondary/verified.png\",\n",
      "                    \"image_url_light\": \"https://s100.divarcdn.com/static/imgs/widget-icons/light/success_secondary/verified.png\",\n",
      "                    \"icon_name\": \"VERIFIED\",\n",
      "                    \"icon_color\": \"SUCCESS_SECONDARY\"\n",
      "                }\n",
      "            }\n",
      "        ],\n",
      "        \"customer_car_inspection_request\": null,\n",
      "        \"suggestions\": {\n",
      "            \"suggestion_available\": false,\n",
      "            \"title\": \"\",\n",
      "            \"posts\": [],\n",
      "            \"widget_list\": [],\n",
      "            \"post_suggestion_extra_logs\": []\n",
      "        },\n",
      "        \"business_section\": {\n",
      "            \"widget_list\": [\n",
      "                {\n",
      "                    \"widget_type\": \"EVENT_ROW\",\n",
      "                    \"data\": {\n",
      "                        \"@type\": \"type.googleapis.com/widgets.EventRowData\",\n",
      "                        \"title\": \"فروشگاه پایتخت لپ تاپ\",\n",
      "                        \"subtitle\": \"مشاهدهٔ همهٔ آگهی‌ها\",\n",
      "                        \"image_url\": \"https://s100.divarcdn.com/static/images/marketplace/WyUKTYab6rlLJL7HA9C_vQ.jpg\",\n",
      "                        \"action\": {\n",
      "                            \"type\": \"MARKETPLACE_STORE_LANDING_PAGE\",\n",
      "                            \"payload\": {\n",
      "                                \"@type\": \"type.googleapis.com/widgets.MarketplaceStoreLandingPagePayload\",\n",
      "                                \"slug\": \"nanotak\",\n",
      "                                \"name\": \"پایتخت لپ تاپ\",\n",
      "                                \"source\": \"OTHERS\",\n",
      "                                \"ad_instance_id\": \"\"\n",
      "                            },\n",
      "                            \"fallback_link\": \"\",\n",
      "                            \"page_pop_link\": false\n",
      "                        },\n",
      "                        \"type\": \"NORMAL\",\n",
      "                        \"has_indicator\": false,\n",
      "                        \"label\": \"\",\n",
      "                        \"has_divider\": false,\n",
      "                        \"padded\": false,\n",
      "                        \"hide_image\": false\n",
      "                    }\n",
      "                },\n",
      "                {\n",
      "                    \"widget_type\": \"TITLE_ROW\",\n",
      "                    \"data\": {\n",
      "                        \"@type\": \"type.googleapis.com/widgets.TitleRowData\",\n",
      "                        \"text\": \"نحوهٔ خرید از فروشگاه\",\n",
      "                        \"text_color\": \"TEXT_PRIMARY\",\n",
      "                        \"has_divider\": false,\n",
      "                        \"color\": \"\"\n",
      "                    }\n",
      "                },\n",
      "                {\n",
      "                    \"widget_type\": \"FEATURE_ROW\",\n",
      "                    \"data\": {\n",
      "                        \"@type\": \"type.googleapis.com/widgets.FeatureRowData\",\n",
      "                        \"title\": \"امکان ارسال به سراسر ایران\",\n",
      "                        \"has_divider\": true,\n",
      "                        \"icon\": {\n",
      "                            \"image_url_dark\": \"https://s100.divarcdn.com/static/imgs/widget-icons/dark/icon_secondary/local_shipping.png\",\n",
      "                            \"image_url_light\": \"https://s100.divarcdn.com/static/imgs/widget-icons/light/icon_secondary/local_shipping.png\",\n",
      "                            \"icon_name\": \"LOCAL_SHIPPING\",\n",
      "                            \"icon_color\": \"ICON_SECONDARY\"\n",
      "                        },\n",
      "                        \"image_url\": \"\",\n",
      "                        \"image_color\": \"UNKNOWN\",\n",
      "                        \"disabled\": false\n",
      "                    }\n",
      "                },\n",
      "                {\n",
      "                    \"widget_type\": \"FEATURE_ROW\",\n",
      "                    \"data\": {\n",
      "                        \"@type\": \"type.googleapis.com/widgets.FeatureRowData\",\n",
      "                        \"title\": \"امکان پرداخت در محل در سراسر ایران\",\n",
      "                        \"has_divider\": true,\n",
      "                        \"icon\": {\n",
      "                            \"image_url_dark\": \"https://s100.divarcdn.com/static/imgs/widget-icons/dark/icon_secondary/credit_account.png\",\n",
      "                            \"image_url_light\": \"https://s100.divarcdn.com/static/imgs/widget-icons/light/icon_secondary/credit_account.png\",\n",
      "                            \"icon_name\": \"CREDIT_ACCOUNT\",\n",
      "                            \"icon_color\": \"ICON_SECONDARY\"\n",
      "                        },\n",
      "                        \"image_url\": \"\",\n",
      "                        \"image_color\": \"UNKNOWN\",\n",
      "                        \"disabled\": false\n",
      "                    }\n",
      "                },\n",
      "                {\n",
      "                    \"widget_type\": \"FEATURE_ROW\",\n",
      "                    \"data\": {\n",
      "                        \"@type\": \"type.googleapis.com/widgets.FeatureRowData\",\n",
      "                        \"title\": \"امکان مراجعهٔ حضوری به فروشگاه\",\n",
      "                        \"has_divider\": true,\n",
      "                        \"icon\": {\n",
      "                            \"image_url_dark\": \"https://s100.divarcdn.com/static/imgs/widget-icons/dark/icon_secondary/place.png\",\n",
      "                            \"image_url_light\": \"https://s100.divarcdn.com/static/imgs/widget-icons/light/icon_secondary/place.png\",\n",
      "                            \"icon_name\": \"PLACE\",\n",
      "                            \"icon_color\": \"ICON_SECONDARY\"\n",
      "                        },\n",
      "                        \"image_url\": \"\",\n",
      "                        \"image_color\": \"UNKNOWN\",\n",
      "                        \"disabled\": false\n",
      "                    }\n",
      "                },\n",
      "                {\n",
      "                    \"widget_type\": \"DESCRIPTION_ROW\",\n",
      "                    \"data\": {\n",
      "                        \"@type\": \"type.googleapis.com/widgets.DescriptionRowData\",\n",
      "                        \"text\": \"آدرس: استان آذربایجان غربی،شهر ارومیه،خیابان امام،مجتمع تجاری فیلیپس،طبقه منفی 2،پلاک 13،فروشگاه پایتخت لپ تاپ\",\n",
      "                        \"is_primary\": true,\n",
      "                        \"has_divider\": false,\n",
      "                        \"expandable\": false,\n",
      "                        \"small\": false,\n",
      "                        \"padded\": false,\n",
      "                        \"preview_max_line\": 0\n",
      "                    }\n",
      "                }\n",
      "            ],\n",
      "            \"title\": \"\",\n",
      "            \"is_searchable\": false,\n",
      "            \"nav_bar\": []\n",
      "        },\n",
      "        \"note\": {\n",
      "            \"enable\": true\n",
      "        }\n",
      "    },\n",
      "    \"token\": \"wY9VsSUG\",\n",
      "    \"error\": 0\n",
      "}\n"
     ]
    }
   ],
   "source": [
    "print(json.dumps(post_data, indent=4, ensure_ascii=False))"
   ]
  },
  {
   "cell_type": "code",
   "execution_count": 25,
   "metadata": {},
   "outputs": [
    {
     "data": {
      "text/plain": [
       "'لپ تاپ قدرتمند hp با رم ۱۲ گیگ'"
      ]
     },
     "execution_count": 25,
     "metadata": {},
     "output_type": "execute_result"
    }
   ],
   "source": [
    "post_data[\"widgets\"][\"header\"][\"title\"]"
   ]
  },
  {
   "cell_type": "code",
   "execution_count": 22,
   "metadata": {},
   "outputs": [
    {
     "data": {
      "text/plain": [
       "['https://s100.divarcdn.com/static/pictures/1675863954/wY9VsSUG.webp',\n",
       " 'https://s100.divarcdn.com/static/pictures/1675863954/wY9VsSUG.1.webp',\n",
       " 'https://s100.divarcdn.com/static/pictures/1675863954/wY9VsSUG.2.webp',\n",
       " 'https://s100.divarcdn.com/static/pictures/1675863954/wY9VsSUG.3.webp',\n",
       " 'https://s100.divarcdn.com/static/pictures/1675863954/wY9VsSUG.4.webp']"
      ]
     },
     "execution_count": 22,
     "metadata": {},
     "output_type": "execute_result"
    }
   ],
   "source": [
    "post_data[\"widgets\"][\"images\"]"
   ]
  },
  {
   "cell_type": "code",
   "execution_count": 27,
   "metadata": {},
   "outputs": [],
   "source": [
    "post_token = \"wY9VsSUG\"\n",
    "\n",
    "for i, image_url in enumerate(post_data[\"widgets\"][\"images\"]):\n",
    "    with open(f'/home/divar/university/MLOps/Project/data/divar/{post_token}-{i}.jpg', 'wb') as handle:\n",
    "        response = requests.get(image_url, stream=True)\n",
    "        if not response.ok:\n",
    "            print(response)\n",
    "        for block in response.iter_content(1024):\n",
    "            if not block:\n",
    "                break\n",
    "            handle.write(block)\n"
   ]
  },
  {
   "cell_type": "code",
   "execution_count": 28,
   "metadata": {},
   "outputs": [],
   "source": [
    "with open(f'/home/divar/university/MLOps/Project/data/divar/{post_token}.txt', 'w') as file:\n",
    "    file.write(post_data[\"widgets\"][\"header\"][\"title\"])\n"
   ]
  },
  {
   "cell_type": "code",
   "execution_count": null,
   "metadata": {},
   "outputs": [],
   "source": []
  }
 ],
 "metadata": {
  "kernelspec": {
   "display_name": "base",
   "language": "python",
   "name": "python3"
  },
  "language_info": {
   "codemirror_mode": {
    "name": "ipython",
    "version": 3
   },
   "file_extension": ".py",
   "mimetype": "text/x-python",
   "name": "python",
   "nbconvert_exporter": "python",
   "pygments_lexer": "ipython3",
   "version": "3.9.13"
  },
  "orig_nbformat": 4
 },
 "nbformat": 4,
 "nbformat_minor": 2
}
